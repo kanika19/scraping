{
 "cells": [
  {
   "cell_type": "code",
   "execution_count": 1,
   "metadata": {
    "collapsed": true
   },
   "outputs": [],
   "source": [
    "import pandas as pd"
   ]
  },
  {
   "cell_type": "code",
   "execution_count": 2,
   "metadata": {
    "collapsed": true
   },
   "outputs": [],
   "source": [
    "import bs4"
   ]
  },
  {
   "cell_type": "code",
   "execution_count": 3,
   "metadata": {
    "collapsed": true
   },
   "outputs": [],
   "source": [
    "from bs4 import BeautifulSoup"
   ]
  },
  {
   "cell_type": "code",
   "execution_count": 4,
   "metadata": {
    "collapsed": true
   },
   "outputs": [],
   "source": [
    "import urllib"
   ]
  },
  {
   "cell_type": "code",
   "execution_count": 5,
   "metadata": {
    "collapsed": true
   },
   "outputs": [],
   "source": [
    "url = \"https://en.wikipedia.org\"\n"
   ]
  },
  {
   "cell_type": "code",
   "execution_count": 6,
   "metadata": {
    "collapsed": true
   },
   "outputs": [],
   "source": [
    "r = urllib.urlopen(\"https://en.wikipedia.org/wiki/List_of_highest-grossing_films\").read()"
   ]
  },
  {
   "cell_type": "code",
   "execution_count": 7,
   "metadata": {
    "collapsed": true
   },
   "outputs": [],
   "source": [
    "soup = BeautifulSoup(r,\"lxml\")"
   ]
  },
  {
   "cell_type": "code",
   "execution_count": 8,
   "metadata": {
    "collapsed": false
   },
   "outputs": [
    {
     "data": {
      "text/plain": [
       "<title>List of highest-grossing films - Wikipedia, the free encyclopedia</title>"
      ]
     },
     "execution_count": 8,
     "metadata": {},
     "output_type": "execute_result"
    }
   ],
   "source": [
    "soup.title"
   ]
  },
  {
   "cell_type": "code",
   "execution_count": 9,
   "metadata": {
    "collapsed": true
   },
   "outputs": [],
   "source": [
    "table = soup.find('table', class_= 'wikitable sortable plainrowheaders')"
   ]
  },
  {
   "cell_type": "code",
   "execution_count": 34,
   "metadata": {
    "collapsed": false
   },
   "outputs": [
    {
     "data": {
      "text/plain": [
       "<table class=\"wikitable sortable plainrowheaders\" style=\"margin:auto; margin:auto;\">\\n<caption>Highest-grossing films<sup class=\"reference\" id=\"cite_ref-13\"><a href=\"#cite_note-13\">[13]</a></sup></caption>\\n<tr>\\n<th scope=\"col\">Rank</th>\\n<th scope=\"col\"><span style=\"border-bottom:1px dotted\" title=\"Highest position attained in the chart\">Peak</span></th>\\n<th scope=\"col\">Title</th>\\n<th scope=\"col\">Worldwide gross</th>\\n<th scope=\"col\">Year</th>\\n<th class=\"unsortable\" scope=\"col\">Reference(s)</th>\\n</tr>\\n<tr>\\n<td>1</td>\\n<td>1</td>\\n<th scope=\"row\"><i><a href=\"/wiki/Avatar_(2009_film)\" title=\"Avatar (2009 film)\">Avatar</a></i></th>\\n<td align=\"right\">$2,787,965,087</td>\\n<td data-sort-value=\"2009-12\" style=\"text-align:center;\">2009</td>\\n<td style=\"text-align:center;\"><sup class=\"reference\" id=\"cite_ref-avatar_14-0\"><a href=\"#cite_note-avatar-14\">[# 1]</a></sup><sup class=\"reference\" id=\"cite_ref-avatar_peak_15-0\"><a href=\"#cite_note-avatar_peak-15\">[# 2]</a></sup></td>\\n</tr>\\n<tr>\\n<td>2</td>\\n<td>1</td>\\n<th scope=\"row\"><i><a href=\"/wiki/Titanic_(1997_film)\" title=\"Titanic (1997 film)\">Titanic</a></i></th>\\n<td align=\"right\">$2,186,772,302</td>\\n<td style=\"text-align:center;\">1997</td>\\n<td style=\"text-align:center;\"><sup class=\"reference\" id=\"cite_ref-titanic_16-0\"><a href=\"#cite_note-titanic-16\">[# 3]</a></sup><sup class=\"reference\" id=\"cite_ref-titanic_peak_17-0\"><a href=\"#cite_note-titanic_peak-17\">[# 4]</a></sup></td>\\n</tr>\\n<tr>\\n<td>3</td>\\n<td>3</td>\\n<th scope=\"row\"><i><a href=\"/wiki/Star_Wars:_The_Force_Awakens\" title=\"Star Wars: The Force Awakens\">Star Wars: The Force Awakens</a></i></th>\\n<td align=\"right\">$2,068,223,624</td>\\n<td style=\"text-align:center;\">2015</td>\\n<td style=\"text-align:center;\"><sup class=\"reference\" id=\"cite_ref-sw7_18-0\"><a href=\"#cite_note-sw7-18\">[# 5]</a></sup><sup class=\"reference\" id=\"cite_ref-sw7_peak_19-0\"><a href=\"#cite_note-sw7_peak-19\">[# 6]</a></sup></td>\\n</tr>\\n<tr>\\n<td>4</td>\\n<td>3</td>\\n<th scope=\"row\"><i><a href=\"/wiki/Jurassic_World\" title=\"Jurassic World\">Jurassic World</a></i></th>\\n<td align=\"right\">$1,670,400,637</td>\\n<td data-sort-value=\"2015-06\" style=\"text-align:center;\">2015</td>\\n<td style=\"text-align:center;\"><sup class=\"reference\" id=\"cite_ref-jurassic_world_20-0\"><a href=\"#cite_note-jurassic_world-20\">[# 7]</a></sup><sup class=\"reference\" id=\"cite_ref-minionspeak_21-0\"><a href=\"#cite_note-minionspeak-21\">[# 8]</a></sup></td>\\n</tr>\\n<tr>\\n<td>5</td>\\n<td>3</td>\\n<th scope=\"row\"><i><a href=\"/wiki/The_Avengers_(2012_film)\" title=\"The Avengers (2012 film)\">The Avengers</a></i></th>\\n<td align=\"right\">$1,519,557,910</td>\\n<td data-sort-value=\"2012-04\" style=\"text-align:center;\">2012</td>\\n<td style=\"text-align:center;\"><sup class=\"reference\" id=\"cite_ref-avengers_22-0\"><a href=\"#cite_note-avengers-22\">[# 9]</a></sup><sup class=\"reference\" id=\"cite_ref-avengers_peak_23-0\"><a href=\"#cite_note-avengers_peak-23\">[# 10]</a></sup></td>\\n</tr>\\n<tr>\\n<td>6</td>\\n<td>4</td>\\n<th scope=\"row\"><i><a href=\"/wiki/Furious_7\" title=\"Furious 7\">Furious 7</a></i></th>\\n<td align=\"right\">$1,516,045,911</td>\\n<td data-sort-value=\"2015-04-01\" style=\"text-align:center;\">2015</td>\\n<td style=\"text-align:center;\"><sup class=\"reference\" id=\"cite_ref-fast7_24-0\"><a href=\"#cite_note-fast7-24\">[# 11]</a></sup><sup class=\"reference\" id=\"cite_ref-ultron_peak_25-0\"><a href=\"#cite_note-ultron_peak-25\">[# 12]</a></sup></td>\\n</tr>\\n<tr>\\n<td>7</td>\\n<td>5</td>\\n<th scope=\"row\"><i><a href=\"/wiki/Avengers:_Age_of_Ultron\" title=\"Avengers: Age of Ultron\">Avengers: Age of Ultron</a></i></th>\\n<td align=\"right\">$1,405,413,868</td>\\n<td data-sort-value=\"2015-04-13\" style=\"text-align:center;\">2015</td>\\n<td style=\"text-align:center;\"><sup class=\"reference\" id=\"cite_ref-26\"><a href=\"#cite_note-26\">[# 13]</a></sup><sup class=\"reference\" id=\"cite_ref-ultron_peak_25-1\"><a href=\"#cite_note-ultron_peak-25\">[# 12]</a></sup></td>\\n</tr>\\n<tr>\\n<td>8</td>\\n<td>3</td>\\n<th scope=\"row\"><i><a href=\"/wiki/Harry_Potter_and_the_Deathly_Hallows_%E2%80%93_Part_2\" title=\"Harry Potter and the Deathly Hallows \\u2013 Part 2\">Harry Potter and the Deathly Hallows \\u2013 Part 2</a></i></th>\\n<td align=\"right\">$1,341,511,219</td>\\n<td data-sort-value=\"2011-07\" style=\"text-align:center;\">2011</td>\\n<td style=\"text-align:center;\"><sup class=\"reference\" id=\"cite_ref-hp7.2_27-0\"><a href=\"#cite_note-hp7.2-27\">[# 14]</a></sup><sup class=\"reference\" id=\"cite_ref-HP8_peak_28-0\"><a href=\"#cite_note-HP8_peak-28\">[# 15]</a></sup></td>\\n</tr>\\n<tr>\\n<td>9<sup class=\"reference plainlinks nourlexpansion\" id=\"ref_Frozen\"><a href=\"#endnote_Frozen\">F</a></sup></td>\\n<td>5</td>\\n<th scope=\"row\"><i><a href=\"/wiki/Frozen_(2013_film)\" title=\"Frozen (2013 film)\">Frozen</a></i></th>\\n<td align=\"right\">$1,287,000,000</td>\\n<td data-sort-value=\"2013-11-19\" style=\"text-align:center;\">2013</td>\\n<td style=\"text-align:center;\"><sup class=\"reference\" id=\"cite_ref-Frozen_29-0\"><a href=\"#cite_note-Frozen-29\">[# 16]</a></sup><sup class=\"reference\" id=\"cite_ref-Frozen_peak_30-0\"><a href=\"#cite_note-Frozen_peak-30\">[# 17]</a></sup></td>\\n</tr>\\n<tr>\\n<td>10</td>\\n<td>5</td>\\n<th scope=\"row\"><i><a href=\"/wiki/Iron_Man_3\" title=\"Iron Man 3\">Iron Man 3</a></i></th>\\n<td align=\"right\">$1,215,439,994</td>\\n<td data-sort-value=\"2013-04\" style=\"text-align:center;\">2013</td>\\n<td style=\"text-align:center;\"><sup class=\"reference\" id=\"cite_ref-Iron_Man_3_31-0\"><a href=\"#cite_note-Iron_Man_3-31\">[# 18]</a></sup><sup class=\"reference\" id=\"cite_ref-IM3_peak_32-0\"><a href=\"#cite_note-IM3_peak-32\">[# 19]</a></sup></td>\\n</tr>\\n<tr>\\n<td>11</td>\\n<td>10</td>\\n<th scope=\"row\"><i><a href=\"/wiki/Minions_(film)\" title=\"Minions (film)\">Minions</a></i></th>\\n<td align=\"right\">$1,159,398,397</td>\\n<td data-sort-value=\"2015-07-10\" style=\"text-align:center;\">2015</td>\\n<td style=\"text-align:center;\"><sup class=\"reference\" id=\"cite_ref-33\"><a href=\"#cite_note-33\">[# 20]</a></sup><sup class=\"reference\" id=\"cite_ref-minionspeak_21-1\"><a href=\"#cite_note-minionspeak-21\">[# 8]</a></sup></td>\\n</tr>\\n<tr>\\n<td>12</td>\\n<td>12</td>\\n<th scope=\"row\" style=\"background:#b6fcb6;\"><i><a href=\"/wiki/Captain_America:_Civil_War\" title=\"Captain America: Civil War\">Captain America: Civil War</a></i> <img alt=\"film currently playing\" data-file-height=\"14\" data-file-width=\"9\" height=\"14\" src=\"//upload.wikimedia.org/wikipedia/commons/3/37/Dagger-14-plain.png\" width=\"9\"/></th>\\n<td align=\"right\">$1,152,765,346</td>\\n<td data-sort-value=\"2016-05\" style=\"text-align:center;\">2016</td>\\n<td style=\"text-align:center;\"><sup class=\"reference\" id=\"cite_ref-civil_war_34-0\"><a href=\"#cite_note-civil_war-34\">[# 21]</a></sup><sup class=\"reference\" id=\"cite_ref-civil_war_peak_35-0\"><a href=\"#cite_note-civil_war_peak-35\">[# 22]</a></sup></td>\\n</tr>\\n<tr>\\n<td>13</td>\\n<td>4</td>\\n<th scope=\"row\"><i><a href=\"/wiki/Transformers:_Dark_of_the_Moon\" title=\"Transformers: Dark of the Moon\">Transformers: Dark of the Moon</a></i></th>\\n<td align=\"right\">$1,123,794,079</td>\\n<td data-sort-value=\"2011-06\" style=\"text-align:center;\">2011</td>\\n<td style=\"text-align:center;\"><sup class=\"reference\" id=\"cite_ref-36\"><a href=\"#cite_note-36\">[# 23]</a></sup><sup class=\"reference\" id=\"cite_ref-HP8_peak_28-1\"><a href=\"#cite_note-HP8_peak-28\">[# 15]</a></sup></td>\\n</tr>\\n<tr>\\n<td>14</td>\\n<td>2</td>\\n<th scope=\"row\"><i><a href=\"/wiki/The_Lord_of_the_Rings:_The_Return_of_the_King\" title=\"The Lord of the Rings: The Return of the King\">The Lord of the Rings: The Return of the King</a></i></th>\\n<td align=\"right\">$1,119,929,521</td>\\n<td data-sort-value=\"2003-12\" style=\"text-align:center;\">2003</td>\\n<td style=\"text-align:center;\"><sup class=\"reference\" id=\"cite_ref-lotr3_37-0\"><a href=\"#cite_note-lotr3-37\">[# 24]</a></sup><sup class=\"reference\" id=\"cite_ref-ROTK_peak_38-0\"><a href=\"#cite_note-ROTK_peak-38\">[# 25]</a></sup></td>\\n</tr>\\n<tr>\\n<td>15</td>\\n<td>7</td>\\n<th scope=\"row\"><i><a href=\"/wiki/Skyfall\" title=\"Skyfall\">Skyfall</a></i></th>\\n<td align=\"right\">$1,108,561,013</td>\\n<td data-sort-value=\"2012-10\" style=\"text-align:center;\">2012</td>\\n<td style=\"text-align:center;\"><sup class=\"reference\" id=\"cite_ref-39\"><a href=\"#cite_note-39\">[# 26]</a></sup><sup class=\"reference\" id=\"cite_ref-Skyfall_peak_40-0\"><a href=\"#cite_note-Skyfall_peak-40\">[# 27]</a></sup></td>\\n</tr>\\n<tr>\\n<td>16</td>\\n<td>10</td>\\n<th scope=\"row\"><i><a href=\"/wiki/Transformers:_Age_of_Extinction\" title=\"Transformers: Age of Extinction\">Transformers: Age of Extinction</a></i></th>\\n<td align=\"right\">$1,104,054,072</td>\\n<td data-sort-value=\"2014-06\" style=\"text-align:center;\">2014</td>\\n<td style=\"text-align:center;\"><sup class=\"reference\" id=\"cite_ref-transformers_41-0\"><a href=\"#cite_note-transformers-41\">[# 28]</a></sup><sup class=\"reference\" id=\"cite_ref-Transformers_4_peak_42-0\"><a href=\"#cite_note-Transformers_4_peak-42\">[# 29]</a></sup></td>\\n</tr>\\n<tr>\\n<td>17</td>\\n<td>7</td>\\n<th scope=\"row\"><i><a href=\"/wiki/The_Dark_Knight_Rises\" title=\"The Dark Knight Rises\">The Dark Knight Rises</a></i></th>\\n<td align=\"right\">$1,084,939,099</td>\\n<td data-sort-value=\"2012-07\" style=\"text-align:center;\">2012</td>\\n<td style=\"text-align:center;\"><sup class=\"reference\" id=\"cite_ref-43\"><a href=\"#cite_note-43\">[# 30]</a></sup><sup class=\"reference\" id=\"cite_ref-Ice_Age_3_peak_44-0\"><a href=\"#cite_note-Ice_Age_3_peak-44\">[# 31]</a></sup></td>\\n</tr>\\n<tr>\\n<td>18</td>\\n<td>4<sup class=\"reference plainlinks nourlexpansion\" id=\"ref_TS3\"><a href=\"#endnote_TS3\">TS3</a></sup></td>\\n<th scope=\"row\"><i><a href=\"/wiki/Toy_Story_3\" title=\"Toy Story 3\">Toy Story 3</a></i></th>\\n<td align=\"right\">$1,066,969,703</td>\\n<td data-sort-value=\"2010-06\" style=\"text-align:center;\">2010</td>\\n<td style=\"text-align:center;\"><sup class=\"reference\" id=\"cite_ref-ts3_45-0\"><a href=\"#cite_note-ts3-45\">[# 32]</a></sup><sup class=\"reference\" id=\"cite_ref-Inception_peak_46-0\"><a href=\"#cite_note-Inception_peak-46\">[# 33]</a></sup></td>\\n</tr>\\n<tr>\\n<td>19</td>\\n<td>3</td>\\n<th scope=\"row\"><i><a href=\"/wiki/Pirates_of_the_Caribbean:_Dead_Man%27s_Chest\" title=\"Pirates of the Caribbean: Dead Man's Chest\">Pirates of the Caribbean: Dead Man's Chest</a></i></th>\\n<td align=\"right\">$1,066,179,725</td>\\n<td data-sort-value=\"2006-07\" style=\"text-align:center;\">2006</td>\\n<td style=\"text-align:center;\"><sup class=\"reference\" id=\"cite_ref-potc2_47-0\"><a href=\"#cite_note-potc2-47\">[# 34]</a></sup><sup class=\"reference\" id=\"cite_ref-POTC_2_peak_48-0\"><a href=\"#cite_note-POTC_2_peak-48\">[# 35]</a></sup></td>\\n</tr>\\n<tr>\\n<td>20</td>\\n<td>6</td>\\n<th scope=\"row\"><i><a href=\"/wiki/Pirates_of_the_Caribbean:_On_Stranger_Tides\" title=\"Pirates of the Caribbean: On Stranger Tides\">Pirates of the Caribbean: On Stranger Tides</a></i></th>\\n<td align=\"right\">$1,045,713,802</td>\\n<td data-sort-value=\"2011-05\" style=\"text-align:center;\">2011</td>\\n<td style=\"text-align:center;\"><sup class=\"reference\" id=\"cite_ref-49\"><a href=\"#cite_note-49\">[# 36]</a></sup><sup class=\"reference\" id=\"cite_ref-POTC_4_peak_50-0\"><a href=\"#cite_note-POTC_4_peak-50\">[# 37]</a></sup></td>\\n</tr>\\n<tr>\\n<td>21</td>\\n<td>1</td>\\n<th scope=\"row\"><i><a href=\"/wiki/Jurassic_Park_(film)\" title=\"Jurassic Park (film)\">Jurassic Park</a></i></th>\\n<td align=\"right\">$1,029,939,903</td>\\n<td style=\"text-align:center;\">1993</td>\\n<td style=\"text-align:center;\"><sup class=\"reference\" id=\"cite_ref-jp_51-0\"><a href=\"#cite_note-jp-51\">[# 38]</a></sup><sup class=\"reference\" id=\"cite_ref-Jurassic_Park_peak_52-0\"><a href=\"#cite_note-Jurassic_Park_peak-52\">[# 39]</a></sup></td>\\n</tr>\\n<tr>\\n<td>22</td>\\n<td>2</td>\\n<th scope=\"row\"><i><a href=\"/wiki/Star_Wars:_Episode_I_%E2%80%93_The_Phantom_Menace\" title=\"Star Wars: Episode I \\u2013 The Phantom Menace\">Star Wars: Episode I \\u2013 The Phantom Menace</a></i></th>\\n<td align=\"right\">$1,027,044,677</td>\\n<td style=\"text-align:center;\">1999</td>\\n<td style=\"text-align:center;\"><sup class=\"reference\" id=\"cite_ref-tpm_53-0\"><a href=\"#cite_note-tpm-53\">[# 40]</a></sup><sup class=\"reference\" id=\"cite_ref-titanic_peak_17-1\"><a href=\"#cite_note-titanic_peak-17\">[# 4]</a></sup></td>\\n</tr>\\n<tr>\\n<td>23</td>\\n<td>5</td>\\n<th scope=\"row\"><i><a href=\"/wiki/Alice_in_Wonderland_(2010_film)\" title=\"Alice in Wonderland (2010 film)\">Alice in Wonderland</a></i></th>\\n<td align=\"right\">$1,025,467,110</td>\\n<td data-sort-value=\"2010-02\" style=\"text-align:center;\">2010</td>\\n<td style=\"text-align:center;\"><sup class=\"reference\" id=\"cite_ref-54\"><a href=\"#cite_note-54\">[# 41]</a></sup><sup class=\"reference\" id=\"cite_ref-Alice_peak_55-0\"><a href=\"#cite_note-Alice_peak-55\">[# 42]</a></sup></td>\\n</tr>\\n<tr>\\n<td>24</td>\\n<td>24</td>\\n<th scope=\"row\" style=\"background:#b6fcb6;\"><i><a href=\"/wiki/Zootopia\" title=\"Zootopia\">Zootopia</a></i> <img alt=\"film currently playing\" data-file-height=\"14\" data-file-width=\"9\" height=\"14\" src=\"//upload.wikimedia.org/wikipedia/commons/3/37/Dagger-14-plain.png\" width=\"9\"/></th>\\n<td align=\"right\">$1,023,589,163</td>\\n<td data-sort-value=\"2016-03\" style=\"text-align:center;\">2016</td>\\n<td style=\"text-align:center;\"><sup class=\"reference\" id=\"cite_ref-zootopia_56-0\"><a href=\"#cite_note-zootopia-56\">[# 43]</a></sup><sup class=\"reference\" id=\"cite_ref-civil_war_peak_35-1\"><a href=\"#cite_note-civil_war_peak-35\">[# 22]</a></sup></td>\\n</tr>\\n<tr>\\n<td>25</td>\\n<td>14</td>\\n<th scope=\"row\"><i><a href=\"/wiki/The_Hobbit:_An_Unexpected_Journey\" title=\"The Hobbit: An Unexpected Journey\">The Hobbit: An Unexpected Journey</a></i></th>\\n<td align=\"right\">$1,021,103,568</td>\\n<td data-sort-value=\"2012-11-28\" style=\"text-align:center;\">2012</td>\\n<td style=\"text-align:center;\"><sup class=\"reference\" id=\"cite_ref-57\"><a href=\"#cite_note-57\">[# 44]</a></sup><sup class=\"reference\" id=\"cite_ref-Hobbit_1_peak_58-0\"><a href=\"#cite_note-Hobbit_1_peak-58\">[# 45]</a></sup></td>\\n</tr>\\n<tr>\\n<td>26</td>\\n<td>4</td>\\n<th scope=\"row\"><i><a href=\"/wiki/The_Dark_Knight_(film)\" title=\"The Dark Knight (film)\">The Dark Knight</a></i></th>\\n<td align=\"right\">$1,004,558,444</td>\\n<td data-sort-value=\"2008-07\" style=\"text-align:center;\">2008</td>\\n<td style=\"text-align:center;\"><sup class=\"reference\" id=\"cite_ref-tdk_59-0\"><a href=\"#cite_note-tdk-59\">[# 46]</a></sup><sup class=\"reference\" id=\"cite_ref-TDK_peak_60-0\"><a href=\"#cite_note-TDK_peak-60\">[# 47]</a></sup></td>\\n</tr>\\n<tr>\\n<td>27</td>\\n<td>2</td>\\n<th scope=\"row\"><i><a href=\"/wiki/Harry_Potter_and_the_Philosopher%27s_Stone_(film)\" title=\"Harry Potter and the Philosopher's Stone (film)\">Harry Potter and the Philosopher's Stone</a></i></th>\\n<td align=\"right\">$974,755,371</td>\\n<td data-sort-value=\"2001-11\" style=\"text-align:center;\">2001</td>\\n<td style=\"text-align:center;\"><sup class=\"reference\" id=\"cite_ref-hp1_61-0\"><a href=\"#cite_note-hp1-61\">[# 48]</a></sup><sup class=\"reference\" id=\"cite_ref-HP1_peak_62-0\"><a href=\"#cite_note-HP1_peak-62\">[# 49]</a></sup></td>\\n</tr>\\n<tr>\\n<td>28</td>\\n<td>19<sup class=\"reference plainlinks nourlexpansion\" id=\"ref_DM2\"><a href=\"#endnote_DM2\">DM2</a></sup></td>\\n<th scope=\"row\"><i><a href=\"/wiki/Despicable_Me_2\" title=\"Despicable Me 2\">Despicable Me 2</a></i></th>\\n<td align=\"right\">$970,761,885</td>\\n<td data-sort-value=\"2013-06\" style=\"text-align:center;\">2013</td>\\n<td style=\"text-align:center;\"><sup class=\"reference\" id=\"cite_ref-63\"><a href=\"#cite_note-63\">[# 50]</a></sup><sup class=\"reference\" id=\"cite_ref-DM2_peak_64-0\"><a href=\"#cite_note-DM2_peak-64\">[# 51]</a></sup></td>\\n</tr>\\n<tr>\\n<td>29</td>\\n<td>29</td>\\n<th scope=\"row\" style=\"background:#b6fcb6;\"><i><a href=\"/wiki/Finding_Dory\" title=\"Finding Dory\">Finding Dory</a></i> <img alt=\"film currently playing\" data-file-height=\"14\" data-file-width=\"9\" height=\"14\" src=\"//upload.wikimedia.org/wikipedia/commons/3/37/Dagger-14-plain.png\" width=\"9\"/></th>\\n<td align=\"right\">$970,107,000</td>\\n<td data-sort-value=\"2016-06\" style=\"text-align:center;\">2016</td>\\n<td style=\"text-align:center;\"><sup class=\"reference\" id=\"cite_ref-65\"><a href=\"#cite_note-65\">[# 52]</a></sup></td>\\n</tr>\\n<tr>\\n<td>30</td>\\n<td>2</td>\\n<th scope=\"row\"><i><a href=\"/wiki/The_Lion_King\" title=\"The Lion King\">The Lion King</a></i></th>\\n<td align=\"right\">$968,483,777</td>\\n<td style=\"text-align:center;\">1994</td>\\n<td style=\"text-align:center;\"><sup class=\"reference\" id=\"cite_ref-lion_king_66-0\"><a href=\"#cite_note-lion_king-66\">[# 53]</a></sup><sup class=\"reference\" id=\"cite_ref-Jurassic_Park_peak_52-1\"><a href=\"#cite_note-Jurassic_Park_peak-52\">[# 39]</a></sup></td>\\n</tr>\\n<tr>\\n<td>31</td>\\n<td>30</td>\\n<th scope=\"row\" style=\"background:#b6fcb6;\"><i><a href=\"/wiki/The_Jungle_Book_(2016_film)\" title=\"The Jungle Book (2016 film)\">The Jungle Book</a></i> <img alt=\"film currently playing\" data-file-height=\"14\" data-file-width=\"9\" height=\"14\" src=\"//upload.wikimedia.org/wikipedia/commons/3/37/Dagger-14-plain.png\" width=\"9\"/></th>\\n<td align=\"right\">$965,810,164</td>\\n<td data-sort-value=\"2016-04\" style=\"text-align:center;\">2016</td>\\n<td style=\"text-align:center;\"><sup class=\"reference\" id=\"cite_ref-67\"><a href=\"#cite_note-67\">[# 54]</a></sup><sup class=\"reference\" id=\"cite_ref-jungle_book_peak_68-0\"><a href=\"#cite_note-jungle_book_peak-68\">[# 55]</a></sup></td>\\n</tr>\\n<tr>\\n<td>32</td>\\n<td>5</td>\\n<th scope=\"row\"><i><a href=\"/wiki/Pirates_of_the_Caribbean:_At_World%27s_End\" title=\"Pirates of the Caribbean: At World's End\">Pirates of the Caribbean: At World's End</a></i></th>\\n<td align=\"right\">$963,420,425</td>\\n<td data-sort-value=\"2007-05-19\" style=\"text-align:center;\">2007</td>\\n<td style=\"text-align:center;\"><sup class=\"reference\" id=\"cite_ref-potc3_69-0\"><a href=\"#cite_note-potc3-69\">[# 56]</a></sup><sup class=\"reference\" id=\"cite_ref-potc3_peak_70-0\"><a href=\"#cite_note-potc3_peak-70\">[# 57]</a></sup></td>\\n</tr>\\n<tr>\\n<td>33</td>\\n<td>10</td>\\n<th scope=\"row\"><i><a href=\"/wiki/Harry_Potter_and_the_Deathly_Hallows_%E2%80%93_Part_1\" title=\"Harry Potter and the Deathly Hallows \\u2013 Part 1\">Harry Potter and the Deathly Hallows \\u2013 Part 1</a></i></th>\\n<td align=\"right\">$960,283,305</td>\\n<td data-sort-value=\"2010-11\" style=\"text-align:center;\">2010</td>\\n<td style=\"text-align:center;\"><sup class=\"reference\" id=\"cite_ref-71\"><a href=\"#cite_note-71\">[# 58]</a></sup><sup class=\"reference\" id=\"cite_ref-HP7_peak_72-0\"><a href=\"#cite_note-HP7_peak-72\">[# 59]</a></sup></td>\\n</tr>\\n<tr>\\n<td>34</td>\\n<td>24</td>\\n<th scope=\"row\"><i><a href=\"/wiki/The_Hobbit:_The_Desolation_of_Smaug\" title=\"The Hobbit: The Desolation of Smaug\">The Hobbit: The Desolation of Smaug</a></i></th>\\n<td align=\"right\">$958,366,855</td>\\n<td data-sort-value=\"2013-12\" style=\"text-align:center;\">2013</td>\\n<td style=\"text-align:center;\"><sup class=\"reference\" id=\"cite_ref-73\"><a href=\"#cite_note-73\">[# 60]</a></sup><sup class=\"reference\" id=\"cite_ref-Hobbit_2_peak_74-0\"><a href=\"#cite_note-Hobbit_2_peak-74\">[# 61]</a></sup></td>\\n</tr>\\n<tr>\\n<td>35</td>\\n<td>26</td>\\n<th scope=\"row\"><i><a href=\"/wiki/The_Hobbit:_The_Battle_of_the_Five_Armies\" title=\"The Hobbit: The Battle of the Five Armies\">The Hobbit: The Battle of the Five Armies</a></i></th>\\n<td align=\"right\">$956,019,788</td>\\n<td data-sort-value=\"2014-12\" style=\"text-align:center;\">2014</td>\\n<td style=\"text-align:center;\"><sup class=\"reference\" id=\"cite_ref-75\"><a href=\"#cite_note-75\">[# 62]</a></sup><sup class=\"reference\" id=\"cite_ref-Hobbit_3_peak_76-0\"><a href=\"#cite_note-Hobbit_3_peak-76\">[# 63]</a></sup></td>\\n</tr>\\n<tr>\\n<td>36</td>\\n<td>8<sup class=\"reference plainlinks nourlexpansion\" id=\"ref_FN\"><a href=\"#endnote_FN\">FN</a></sup></td>\\n<th scope=\"row\"><i><a href=\"/wiki/Finding_Nemo\" title=\"Finding Nemo\">Finding Nemo</a></i></th>\\n<td align=\"right\">$940,335,536</td>\\n<td data-sort-value=\"2003-05\" style=\"text-align:center;\">2003</td>\\n<td style=\"text-align:center;\"><sup class=\"reference\" id=\"cite_ref-77\"><a href=\"#cite_note-77\">[# 64]</a></sup><sup class=\"reference\" id=\"cite_ref-ROTK_peak_38-1\"><a href=\"#cite_note-ROTK_peak-38\">[# 25]</a></sup></td>\\n</tr>\\n<tr>\\n<td>37</td>\\n<td>6</td>\\n<th scope=\"row\"><i><a href=\"/wiki/Harry_Potter_and_the_Order_of_the_Phoenix_(film)\" title=\"Harry Potter and the Order of the Phoenix (film)\">Harry Potter and the Order of the Phoenix</a></i></th>\\n<td align=\"right\">$939,885,929</td>\\n<td data-sort-value=\"2007-07\" style=\"text-align:center;\">2007</td>\\n<td style=\"text-align:center;\"><sup class=\"reference\" id=\"cite_ref-78\"><a href=\"#cite_note-78\">[# 65]</a></sup><sup class=\"reference\" id=\"cite_ref-potc3_peak_70-1\"><a href=\"#cite_note-potc3_peak-70\">[# 57]</a></sup></td>\\n</tr>\\n<tr>\\n<td>38</td>\\n<td>8</td>\\n<th scope=\"row\"><i><a href=\"/wiki/Harry_Potter_and_the_Half-Blood_Prince_(film)\" title=\"Harry Potter and the Half-Blood Prince (film)\">Harry Potter and the Half-Blood Prince</a></i></th>\\n<td align=\"right\">$934,416,487</td>\\n<td data-sort-value=\"2009-07-06\" style=\"text-align:center;\">2009</td>\\n<td style=\"text-align:center;\"><sup class=\"reference\" id=\"cite_ref-79\"><a href=\"#cite_note-79\">[# 66]</a></sup><sup class=\"reference\" id=\"cite_ref-Ice_Age_2_peak_80-0\"><a href=\"#cite_note-Ice_Age_2_peak-80\">[# 67]</a></sup></td>\\n</tr>\\n<tr>\\n<td>39</td>\\n<td>4</td>\\n<th scope=\"row\"><i><a href=\"/wiki/The_Lord_of_the_Rings:_The_Two_Towers\" title=\"The Lord of the Rings: The Two Towers\">The Lord of the Rings: The Two Towers</a></i></th>\\n<td align=\"right\">$926,047,111</td>\\n<td data-sort-value=\"2002-12\" style=\"text-align:center;\">2002</td>\\n<td style=\"text-align:center;\"><sup class=\"reference\" id=\"cite_ref-lotr2_81-0\"><a href=\"#cite_note-lotr2-81\">[# 68]</a></sup><sup class=\"reference\" id=\"cite_ref-LOTR2_peak_82-0\"><a href=\"#cite_note-LOTR2_peak-82\">[# 69]</a></sup></td>\\n</tr>\\n<tr>\\n<td>40</td>\\n<td>6</td>\\n<th scope=\"row\"><i><a href=\"/wiki/Shrek_2\" title=\"Shrek 2\">Shrek 2</a></i></th>\\n<td align=\"right\">$919,838,758</td>\\n<td data-sort-value=\"2004-05-15\" style=\"text-align:center;\">2004</td>\\n<td style=\"text-align:center;\"><sup class=\"reference\" id=\"cite_ref-shrek2_83-0\"><a href=\"#cite_note-shrek2-83\">[# 70]</a></sup><sup class=\"reference\" id=\"cite_ref-Shrek_2_peak_84-0\"><a href=\"#cite_note-Shrek_2_peak-84\">[# 71]</a></sup></td>\\n</tr>\\n<tr>\\n<td>41</td>\\n<td>8</td>\\n<th scope=\"row\"><i><a href=\"/wiki/Harry_Potter_and_the_Goblet_of_Fire_(film)\" title=\"Harry Potter and the Goblet of Fire (film)\">Harry Potter and the Goblet of Fire</a></i></th>\\n<td align=\"right\">$896,911,078</td>\\n<td data-sort-value=\"2005-11\" style=\"text-align:center;\">2005</td>\\n<td style=\"text-align:center;\"><sup class=\"reference\" id=\"cite_ref-hp4_85-0\"><a href=\"#cite_note-hp4-85\">[# 72]</a></sup><sup class=\"reference\" id=\"cite_ref-hp4_peak_86-0\"><a href=\"#cite_note-hp4_peak-86\">[# 73]</a></sup></td>\\n</tr>\\n<tr>\\n<td>42</td>\\n<td>10</td>\\n<th scope=\"row\"><i><a href=\"/wiki/Spider-Man_3\" title=\"Spider-Man 3\">Spider-Man 3</a></i></th>\\n<td align=\"right\">$890,871,626</td>\\n<td data-sort-value=\"2007-04\" style=\"text-align:center;\">2007</td>\\n<td style=\"text-align:center;\"><sup class=\"reference\" id=\"cite_ref-87\"><a href=\"#cite_note-87\">[# 74]</a></sup><sup class=\"reference\" id=\"cite_ref-Spiderman_3_peak_88-0\"><a href=\"#cite_note-Spiderman_3_peak-88\">[# 75]</a></sup></td>\\n</tr>\\n<tr>\\n<td>43</td>\\n<td>15</td>\\n<th scope=\"row\"><i><a href=\"/wiki/Ice_Age:_Dawn_of_the_Dinosaurs\" title=\"Ice Age: Dawn of the Dinosaurs\">Ice Age: Dawn of the Dinosaurs</a></i></th>\\n<td align=\"right\">$886,686,817</td>\\n<td data-sort-value=\"2009-07-01\" style=\"text-align:center;\">2009</td>\\n<td style=\"text-align:center;\"><sup class=\"reference\" id=\"cite_ref-89\"><a href=\"#cite_note-89\">[# 76]</a></sup><sup class=\"reference\" id=\"cite_ref-Ice_Age_2_peak_80-1\"><a href=\"#cite_note-Ice_Age_2_peak-80\">[# 67]</a></sup></td>\\n</tr>\\n<tr>\\n<td>44</td>\\n<td>40</td>\\n<th scope=\"row\"><i><a href=\"/wiki/Spectre_(2015_film)\" title=\"Spectre (2015 film)\">Spectre</a></i></th>\\n<td align=\"right\">$880,674,609</td>\\n<td data-sort-value=\"2015-11\" style=\"text-align:center;\">2015</td>\\n<td style=\"text-align:center;\"><sup class=\"reference\" id=\"cite_ref-90\"><a href=\"#cite_note-90\">[# 77]</a></sup><sup class=\"reference\" id=\"cite_ref-sw7_peak_19-1\"><a href=\"#cite_note-sw7_peak-19\">[# 6]</a></sup></td>\\n</tr>\\n<tr>\\n<td>45</td>\\n<td>6</td>\\n<th scope=\"row\"><i><a href=\"/wiki/Harry_Potter_and_the_Chamber_of_Secrets_(film)\" title=\"Harry Potter and the Chamber of Secrets (film)\">Harry Potter and the Chamber of Secrets</a></i></th>\\n<td align=\"right\">$878,979,634</td>\\n<td data-sort-value=\"2002-11\" style=\"text-align:center;\">2002</td>\\n<td style=\"text-align:center;\"><sup class=\"reference\" id=\"cite_ref-91\"><a href=\"#cite_note-91\">[# 78]</a></sup><sup class=\"reference\" id=\"cite_ref-hp2_peak_92-0\"><a href=\"#cite_note-hp2_peak-92\">[# 79]</a></sup></td>\\n</tr>\\n<tr>\\n<td>46</td>\\n<td>29</td>\\n<th scope=\"row\"><i><a href=\"/wiki/Ice_Age:_Continental_Drift\" title=\"Ice Age: Continental Drift\">Ice Age: Continental Drift</a></i></th>\\n<td align=\"right\">$877,244,782</td>\\n<td data-sort-value=\"2012-06\" style=\"text-align:center;\">2012</td>\\n<td style=\"text-align:center;\"><sup class=\"reference\" id=\"cite_ref-93\"><a href=\"#cite_note-93\">[# 80]</a></sup><sup class=\"reference\" id=\"cite_ref-Ice_Age_3_peak_44-1\"><a href=\"#cite_note-Ice_Age_3_peak-44\">[# 31]</a></sup></td>\\n</tr>\\n<tr>\\n<td>47</td>\\n<td>45</td>\\n<th scope=\"row\"><i><a href=\"/wiki/Batman_v_Superman:_Dawn_of_Justice\" title=\"Batman v Superman: Dawn of Justice\">Batman v Superman: Dawn of Justice</a></i></th>\\n<td align=\"right\">$873,260,194</td>\\n<td data-sort-value=\"2016-03\" style=\"text-align:center;\">2016</td>\\n<td style=\"text-align:center;\"><sup class=\"reference\" id=\"cite_ref-94\"><a href=\"#cite_note-94\">[# 81]</a></sup><sup class=\"reference\" id=\"cite_ref-BvS_peak_95-0\"><a href=\"#cite_note-BvS_peak-95\">[# 82]</a></sup></td>\\n</tr>\\n<tr>\\n<td>48</td>\\n<td>5</td>\\n<th scope=\"row\"><i><a href=\"/wiki/The_Lord_of_the_Rings:_The_Fellowship_of_the_Ring\" title=\"The Lord of the Rings: The Fellowship of the Ring\">The Lord of the Rings: The Fellowship of the Ring</a></i></th>\\n<td align=\"right\">$871,530,324</td>\\n<td data-sort-value=\"2001-12\" style=\"text-align:center;\">2001</td>\\n<td style=\"text-align:center;\"><sup class=\"reference\" id=\"cite_ref-96\"><a href=\"#cite_note-96\">[# 83]</a></sup><sup class=\"reference\" id=\"cite_ref-Spiderman_peak_97-0\"><a href=\"#cite_note-Spiderman_peak-97\">[# 84]</a></sup></td>\\n</tr>\\n<tr>\\n<td>49</td>\\n<td>34</td>\\n<th scope=\"row\"><i><a href=\"/wiki/The_Hunger_Games:_Catching_Fire\" title=\"The Hunger Games: Catching Fire\">The Hunger Games: Catching Fire</a></i></th>\\n<td align=\"right\">$865,011,746</td>\\n<td data-sort-value=\"2013-11-11\" style=\"text-align:center;\">2013</td>\\n<td style=\"text-align:center;\"><sup class=\"reference\" id=\"cite_ref-98\"><a href=\"#cite_note-98\">[# 85]</a></sup><sup class=\"reference\" id=\"cite_ref-Hunger_Games_2_peak_99-0\"><a href=\"#cite_note-Hunger_Games_2_peak-99\">[# 86]</a></sup></td>\\n</tr>\\n<tr>\\n<td>50</td>\\n<td>43</td>\\n<th scope=\"row\"><i><a href=\"/wiki/Inside_Out_(2015_film)\" title=\"Inside Out (2015 film)\">Inside Out</a></i></th>\\n<td align=\"right\">$857,611,174</td>\\n<td data-sort-value=\"2015-06\" style=\"text-align:center;\">2015</td>\\n<td style=\"text-align:center;\"><sup class=\"reference\" id=\"cite_ref-100\"><a href=\"#cite_note-100\">[# 87]</a></sup><sup class=\"reference\" id=\"cite_ref-minionspeak_21-2\"><a href=\"#cite_note-minionspeak-21\">[# 8]</a></sup></td>\\n</tr>\\n</table>"
      ]
     },
     "execution_count": 34,
     "metadata": {},
     "output_type": "execute_result"
    }
   ],
   "source": [
    "table\n"
   ]
  },
  {
   "cell_type": "code",
   "execution_count": 36,
   "metadata": {
    "collapsed": false
   },
   "outputs": [
    {
     "data": {
      "text/plain": [
       "105"
      ]
     },
     "execution_count": 36,
     "metadata": {},
     "output_type": "execute_result"
    }
   ],
   "source": [
    "len(table)"
   ]
  },
  {
   "cell_type": "code",
   "execution_count": 10,
   "metadata": {
    "collapsed": false
   },
   "outputs": [],
   "source": [
    "rows = table.findAll('tr')"
   ]
  },
  {
   "cell_type": "code",
   "execution_count": 38,
   "metadata": {
    "collapsed": false
   },
   "outputs": [
    {
     "name": "stdout",
     "output_type": "stream",
     "text": [
      "<class 'bs4.BeautifulSoup'>\n"
     ]
    }
   ],
   "source": [
    "print type(soup)"
   ]
  },
  {
   "cell_type": "code",
   "execution_count": 11,
   "metadata": {
    "collapsed": true
   },
   "outputs": [],
   "source": [
    "rows = table.findAll('tr')"
   ]
  },
  {
   "cell_type": "code",
   "execution_count": 40,
   "metadata": {
    "collapsed": false
   },
   "outputs": [
    {
     "data": {
      "text/plain": [
       "51"
      ]
     },
     "execution_count": 40,
     "metadata": {},
     "output_type": "execute_result"
    }
   ],
   "source": [
    "len(rows)"
   ]
  },
  {
   "cell_type": "code",
   "execution_count": 48,
   "metadata": {
    "collapsed": false
   },
   "outputs": [
    {
     "data": {
      "text/plain": [
       "<tr>\\n<td>1</td>\\n<td>1</td>\\n<th scope=\"row\"><i><a href=\"/wiki/Avatar_(2009_film)\" title=\"Avatar (2009 film)\">Avatar</a></i></th>\\n<td align=\"right\">$2,787,965,087</td>\\n<td data-sort-value=\"2009-12\" style=\"text-align:center;\">2009</td>\\n<td style=\"text-align:center;\"><sup class=\"reference\" id=\"cite_ref-avatar_14-0\"><a href=\"#cite_note-avatar-14\">[# 1]</a></sup><sup class=\"reference\" id=\"cite_ref-avatar_peak_15-0\"><a href=\"#cite_note-avatar_peak-15\">[# 2]</a></sup></td>\\n</tr>"
      ]
     },
     "execution_count": 48,
     "metadata": {},
     "output_type": "execute_result"
    }
   ],
   "source": [
    "rows[1]"
   ]
  },
  {
   "cell_type": "code",
   "execution_count": 12,
   "metadata": {
    "collapsed": true
   },
   "outputs": [],
   "source": [
    "col1 = rows[1].findAll('td')"
   ]
  },
  {
   "cell_type": "code",
   "execution_count": 92,
   "metadata": {
    "collapsed": false
   },
   "outputs": [
    {
     "data": {
      "text/plain": [
       "5"
      ]
     },
     "execution_count": 92,
     "metadata": {},
     "output_type": "execute_result"
    }
   ],
   "source": [
    "len(col1)"
   ]
  },
  {
   "cell_type": "code",
   "execution_count": 93,
   "metadata": {
    "collapsed": false
   },
   "outputs": [
    {
     "data": {
      "text/plain": [
       "[<td>1</td>,\n",
       " <td>1</td>,\n",
       " <td align=\"right\">$2,787,965,087</td>,\n",
       " <td data-sort-value=\"2009-12\" style=\"text-align:center;\">2009</td>,\n",
       " <td style=\"text-align:center;\"><sup class=\"reference\" id=\"cite_ref-avatar_14-0\"><a href=\"#cite_note-avatar-14\">[# 1]</a></sup><sup class=\"reference\" id=\"cite_ref-avatar_peak_15-0\"><a href=\"#cite_note-avatar_peak-15\">[# 2]</a></sup></td>]"
      ]
     },
     "execution_count": 93,
     "metadata": {},
     "output_type": "execute_result"
    }
   ],
   "source": [
    "col1"
   ]
  },
  {
   "cell_type": "code",
   "execution_count": 13,
   "metadata": {
    "collapsed": false
   },
   "outputs": [
    {
     "data": {
      "text/plain": [
       "<td>1</td>"
      ]
     },
     "execution_count": 13,
     "metadata": {},
     "output_type": "execute_result"
    }
   ],
   "source": [
    "col1[1]"
   ]
  },
  {
   "cell_type": "code",
   "execution_count": 14,
   "metadata": {
    "collapsed": true
   },
   "outputs": [],
   "source": [
    "col = rows[1].find('th')"
   ]
  },
  {
   "cell_type": "code",
   "execution_count": 15,
   "metadata": {
    "collapsed": false
   },
   "outputs": [
    {
     "data": {
      "text/plain": [
       "1"
      ]
     },
     "execution_count": 15,
     "metadata": {},
     "output_type": "execute_result"
    }
   ],
   "source": [
    "len(col)"
   ]
  },
  {
   "cell_type": "code",
   "execution_count": 16,
   "metadata": {
    "collapsed": false
   },
   "outputs": [
    {
     "data": {
      "text/plain": [
       "<th scope=\"row\"><i><a href=\"/wiki/Avatar_(2009_film)\" title=\"Avatar (2009 film)\">Avatar</a></i></th>"
      ]
     },
     "execution_count": 16,
     "metadata": {},
     "output_type": "execute_result"
    }
   ],
   "source": [
    "col"
   ]
  },
  {
   "cell_type": "code",
   "execution_count": 17,
   "metadata": {
    "collapsed": false
   },
   "outputs": [
    {
     "data": {
      "text/plain": [
       "<a href=\"/wiki/Avatar_(2009_film)\" title=\"Avatar (2009 film)\">Avatar</a>"
      ]
     },
     "execution_count": 17,
     "metadata": {},
     "output_type": "execute_result"
    }
   ],
   "source": [
    "col.find('a')"
   ]
  },
  {
   "cell_type": "code",
   "execution_count": 18,
   "metadata": {
    "collapsed": false
   },
   "outputs": [
    {
     "data": {
      "text/plain": [
       "'/wiki/Avatar_(2009_film)'"
      ]
     },
     "execution_count": 18,
     "metadata": {},
     "output_type": "execute_result"
    }
   ],
   "source": [
    "col.find('a')['href']"
   ]
  },
  {
   "cell_type": "code",
   "execution_count": 19,
   "metadata": {
    "collapsed": false
   },
   "outputs": [
    {
     "name": "stdout",
     "output_type": "stream",
     "text": [
      "<th scope=\"row\"><i><a href=\"/wiki/Avatar_(2009_film)\" title=\"Avatar (2009 film)\">Avatar</a></i></th>\n"
     ]
    }
   ],
   "source": [
    "print str(col)"
   ]
  },
  {
   "cell_type": "code",
   "execution_count": 86,
   "metadata": {
    "collapsed": false
   },
   "outputs": [
    {
     "data": {
      "text/plain": [
       "<th scope=\"row\"><i><a href=\"/wiki/Avatar_(2009_film)\" title=\"Avatar (2009 film)\">Avatar</a></i></th>"
      ]
     },
     "execution_count": 86,
     "metadata": {},
     "output_type": "execute_result"
    }
   ],
   "source": [
    "col"
   ]
  },
  {
   "cell_type": "code",
   "execution_count": 20,
   "metadata": {
    "collapsed": false
   },
   "outputs": [
    {
     "data": {
      "text/plain": [
       "u'Avatar'"
      ]
     },
     "execution_count": 20,
     "metadata": {},
     "output_type": "execute_result"
    }
   ],
   "source": [
    "col.text"
   ]
  },
  {
   "cell_type": "code",
   "execution_count": 21,
   "metadata": {
    "collapsed": true
   },
   "outputs": [],
   "source": [
    "col = col.text"
   ]
  },
  {
   "cell_type": "code",
   "execution_count": 22,
   "metadata": {
    "collapsed": false
   },
   "outputs": [
    {
     "data": {
      "text/plain": [
       "u'Avatar'"
      ]
     },
     "execution_count": 22,
     "metadata": {},
     "output_type": "execute_result"
    }
   ],
   "source": [
    "col"
   ]
  },
  {
   "cell_type": "code",
   "execution_count": 90,
   "metadata": {
    "collapsed": false
   },
   "outputs": [
    {
     "data": {
      "text/plain": [
       "'Avatar'"
      ]
     },
     "execution_count": 90,
     "metadata": {},
     "output_type": "execute_result"
    }
   ],
   "source": [
    "str(col)"
   ]
  },
  {
   "cell_type": "code",
   "execution_count": 23,
   "metadata": {
    "collapsed": false
   },
   "outputs": [
    {
     "data": {
      "text/plain": [
       "<td>1</td>"
      ]
     },
     "execution_count": 23,
     "metadata": {},
     "output_type": "execute_result"
    }
   ],
   "source": [
    "col1[1]"
   ]
  },
  {
   "cell_type": "code",
   "execution_count": 24,
   "metadata": {
    "collapsed": false
   },
   "outputs": [
    {
     "data": {
      "text/plain": [
       "<td>1</td>"
      ]
     },
     "execution_count": 24,
     "metadata": {},
     "output_type": "execute_result"
    }
   ],
   "source": [
    "col1[0]"
   ]
  },
  {
   "cell_type": "code",
   "execution_count": 25,
   "metadata": {
    "collapsed": false
   },
   "outputs": [
    {
     "data": {
      "text/plain": [
       "<td data-sort-value=\"2009-12\" style=\"text-align:center;\">2009</td>"
      ]
     },
     "execution_count": 25,
     "metadata": {},
     "output_type": "execute_result"
    }
   ],
   "source": [
    "col1[3]"
   ]
  },
  {
   "cell_type": "code",
   "execution_count": 26,
   "metadata": {
    "collapsed": false
   },
   "outputs": [
    {
     "data": {
      "text/plain": [
       "u'2009'"
      ]
     },
     "execution_count": 26,
     "metadata": {},
     "output_type": "execute_result"
    }
   ],
   "source": [
    "col1[3].text"
   ]
  },
  {
   "cell_type": "code",
   "execution_count": 28,
   "metadata": {
    "collapsed": true
   },
   "outputs": [],
   "source": [
    "col2 = col1[3].text"
   ]
  },
  {
   "cell_type": "code",
   "execution_count": 29,
   "metadata": {
    "collapsed": false
   },
   "outputs": [
    {
     "data": {
      "text/plain": [
       "u'2009'"
      ]
     },
     "execution_count": 29,
     "metadata": {},
     "output_type": "execute_result"
    }
   ],
   "source": [
    "col2"
   ]
  },
  {
   "cell_type": "code",
   "execution_count": 30,
   "metadata": {
    "collapsed": true
   },
   "outputs": [],
   "source": [
    "col2 = float(col2)"
   ]
  },
  {
   "cell_type": "code",
   "execution_count": 31,
   "metadata": {
    "collapsed": false
   },
   "outputs": [
    {
     "data": {
      "text/plain": [
       "2009.0"
      ]
     },
     "execution_count": 31,
     "metadata": {},
     "output_type": "execute_result"
    }
   ],
   "source": [
    "col2"
   ]
  },
  {
   "cell_type": "code",
   "execution_count": 32,
   "metadata": {
    "collapsed": true
   },
   "outputs": [],
   "source": [
    "col2 = int(col2)"
   ]
  },
  {
   "cell_type": "code",
   "execution_count": 33,
   "metadata": {
    "collapsed": false
   },
   "outputs": [
    {
     "data": {
      "text/plain": [
       "2009"
      ]
     },
     "execution_count": 33,
     "metadata": {},
     "output_type": "execute_result"
    }
   ],
   "source": [
    "col2\n"
   ]
  },
  {
   "cell_type": "code",
   "execution_count": 34,
   "metadata": {
    "collapsed": false
   },
   "outputs": [
    {
     "data": {
      "text/plain": [
       "<td style=\"text-align:center;\"><sup class=\"reference\" id=\"cite_ref-avatar_14-0\"><a href=\"#cite_note-avatar-14\">[# 1]</a></sup><sup class=\"reference\" id=\"cite_ref-avatar_peak_15-0\"><a href=\"#cite_note-avatar_peak-15\">[# 2]</a></sup></td>"
      ]
     },
     "execution_count": 34,
     "metadata": {},
     "output_type": "execute_result"
    }
   ],
   "source": [
    "col1[4]"
   ]
  },
  {
   "cell_type": "code",
   "execution_count": 35,
   "metadata": {
    "collapsed": false
   },
   "outputs": [
    {
     "data": {
      "text/plain": [
       "[<a href=\"#cite_note-avatar-14\">[# 1]</a>,\n",
       " <a href=\"#cite_note-avatar_peak-15\">[# 2]</a>]"
      ]
     },
     "execution_count": 35,
     "metadata": {},
     "output_type": "execute_result"
    }
   ],
   "source": [
    "col1[4].findAll('a')"
   ]
  },
  {
   "cell_type": "code",
   "execution_count": 36,
   "metadata": {
    "collapsed": true
   },
   "outputs": [],
   "source": [
    "col3 = col1[4].findAll('a')"
   ]
  },
  {
   "cell_type": "code",
   "execution_count": 37,
   "metadata": {
    "collapsed": false
   },
   "outputs": [
    {
     "data": {
      "text/plain": [
       "[<a href=\"#cite_note-avatar-14\">[# 1]</a>,\n",
       " <a href=\"#cite_note-avatar_peak-15\">[# 2]</a>]"
      ]
     },
     "execution_count": 37,
     "metadata": {},
     "output_type": "execute_result"
    }
   ],
   "source": [
    "col3"
   ]
  },
  {
   "cell_type": "code",
   "execution_count": 38,
   "metadata": {
    "collapsed": false
   },
   "outputs": [
    {
     "data": {
      "text/plain": [
       "<a href=\"#cite_note-avatar_peak-15\">[# 2]</a>"
      ]
     },
     "execution_count": 38,
     "metadata": {},
     "output_type": "execute_result"
    }
   ],
   "source": [
    "col3[1]"
   ]
  },
  {
   "cell_type": "code",
   "execution_count": 39,
   "metadata": {
    "collapsed": false
   },
   "outputs": [
    {
     "data": {
      "text/plain": [
       "{'href': '#cite_note-avatar-14'}"
      ]
     },
     "execution_count": 39,
     "metadata": {},
     "output_type": "execute_result"
    }
   ],
   "source": [
    "col3[0].attrs"
   ]
  },
  {
   "cell_type": "code",
   "execution_count": 40,
   "metadata": {
    "collapsed": false
   },
   "outputs": [
    {
     "data": {
      "text/plain": [
       "'#cite_note-avatar-14'"
      ]
     },
     "execution_count": 40,
     "metadata": {},
     "output_type": "execute_result"
    }
   ],
   "source": [
    "col3[0]['href']"
   ]
  },
  {
   "cell_type": "code",
   "execution_count": 58,
   "metadata": {
    "collapsed": true
   },
   "outputs": [],
   "source": [
    "columns = [\"name\", \"rank\", \"worldwide_gross\",\"year\", \"Reference 1\", \"Reference 2\"]"
   ]
  },
  {
   "cell_type": "code",
   "execution_count": 59,
   "metadata": {
    "collapsed": true
   },
   "outputs": [],
   "source": [
    "wiki_data = pd.DataFrame(columns=columns)"
   ]
  },
  {
   "cell_type": "code",
   "execution_count": 43,
   "metadata": {
    "collapsed": false
   },
   "outputs": [
    {
     "data": {
      "text/html": [
       "<div>\n",
       "<table border=\"1\" class=\"dataframe\">\n",
       "  <thead>\n",
       "    <tr style=\"text-align: right;\">\n",
       "      <th></th>\n",
       "      <th>Title</th>\n",
       "      <th>rank</th>\n",
       "      <th>worldwide_gross</th>\n",
       "      <th>year</th>\n",
       "      <th>Reference 1</th>\n",
       "      <th>Reference 2</th>\n",
       "    </tr>\n",
       "  </thead>\n",
       "  <tbody>\n",
       "  </tbody>\n",
       "</table>\n",
       "</div>"
      ],
      "text/plain": [
       "Empty DataFrame\n",
       "Columns: [Title, rank, worldwide_gross, year, Reference 1, Reference 2]\n",
       "Index: []"
      ]
     },
     "execution_count": 43,
     "metadata": {},
     "output_type": "execute_result"
    }
   ],
   "source": [
    "wiki_data"
   ]
  },
  {
   "cell_type": "code",
   "execution_count": 60,
   "metadata": {
    "collapsed": true
   },
   "outputs": [],
   "source": [
    "def get_data(i):\n",
    "    movie_data = {}\n",
    "    cols = rows[i].find('th')\n",
    "    cols = cols.text\n",
    "    movie_data['name'] = cols\n",
    "    \n",
    "    cols1 = rows[i].findAll('td')\n",
    "    movie_data['rank'] = cols1[0].text\n",
    "   # movie_data['peak'] = cols1[1].text\n",
    "    movie_data['worldwide_gross'] = cols1[2].text\n",
    "    movie_data['year'] = cols1[3].text\n",
    "    cols3 = cols1[4].findAll('a')\n",
    "    \n",
    "    cols4 = cols3[0]['href']\n",
    "    if len(cols3) > 1:\n",
    "        cols4_2 = cols3[1]['href']\n",
    "        movie_data['Reference 2']= cols4_2\n",
    "    else:\n",
    "        movie_data['Reference 2']= 'Not found'        \n",
    "    movie_data['Reference 1']= cols4\n",
    "    \n",
    "    \n",
    "    return movie_data\n",
    "    "
   ]
  },
  {
   "cell_type": "code",
   "execution_count": 61,
   "metadata": {
    "collapsed": true
   },
   "outputs": [],
   "source": [
    "wiki_data.year = wiki_data.year.astype(int)"
   ]
  },
  {
   "cell_type": "code",
   "execution_count": 48,
   "metadata": {
    "collapsed": false
   },
   "outputs": [
    {
     "data": {
      "text/html": [
       "<div>\n",
       "<table border=\"1\" class=\"dataframe\">\n",
       "  <thead>\n",
       "    <tr style=\"text-align: right;\">\n",
       "      <th></th>\n",
       "      <th>Title</th>\n",
       "      <th>rank</th>\n",
       "      <th>worldwide_gross</th>\n",
       "      <th>year</th>\n",
       "      <th>Reference 1</th>\n",
       "      <th>Reference 2</th>\n",
       "    </tr>\n",
       "  </thead>\n",
       "  <tbody>\n",
       "    <tr>\n",
       "      <th>0</th>\n",
       "      <td>Star Wars: The Force Awakens</td>\n",
       "      <td>3</td>\n",
       "      <td>$2,068,223,624</td>\n",
       "      <td>2015</td>\n",
       "      <td>#cite_note-sw7-18</td>\n",
       "      <td>#cite_note-sw7_peak-19</td>\n",
       "    </tr>\n",
       "  </tbody>\n",
       "</table>\n",
       "</div>"
      ],
      "text/plain": [
       "                          Title rank worldwide_gross  year        Reference 1  \\\n",
       "0  Star Wars: The Force Awakens    3  $2,068,223,624  2015  #cite_note-sw7-18   \n",
       "\n",
       "              Reference 2  \n",
       "0  #cite_note-sw7_peak-19  "
      ]
     },
     "execution_count": 48,
     "metadata": {},
     "output_type": "execute_result"
    }
   ],
   "source": [
    "wiki_data"
   ]
  },
  {
   "cell_type": "code",
   "execution_count": 62,
   "metadata": {
    "collapsed": false
   },
   "outputs": [],
   "source": [
    "for i in range(1,len(rows)):\n",
    "    wiki_data = wiki_data.append(get_data(i), ignore_index=True) "
   ]
  },
  {
   "cell_type": "code",
   "execution_count": 63,
   "metadata": {
    "collapsed": false
   },
   "outputs": [
    {
     "data": {
      "text/html": [
       "<div>\n",
       "<table border=\"1\" class=\"dataframe\">\n",
       "  <thead>\n",
       "    <tr style=\"text-align: right;\">\n",
       "      <th></th>\n",
       "      <th>name</th>\n",
       "      <th>rank</th>\n",
       "      <th>worldwide_gross</th>\n",
       "      <th>year</th>\n",
       "      <th>Reference 1</th>\n",
       "      <th>Reference 2</th>\n",
       "    </tr>\n",
       "  </thead>\n",
       "  <tbody>\n",
       "    <tr>\n",
       "      <th>0</th>\n",
       "      <td>Avatar</td>\n",
       "      <td>1</td>\n",
       "      <td>$2,787,965,087</td>\n",
       "      <td>2009</td>\n",
       "      <td>#cite_note-avatar-14</td>\n",
       "      <td>#cite_note-avatar_peak-15</td>\n",
       "    </tr>\n",
       "    <tr>\n",
       "      <th>1</th>\n",
       "      <td>Titanic</td>\n",
       "      <td>2</td>\n",
       "      <td>$2,186,772,302</td>\n",
       "      <td>1997</td>\n",
       "      <td>#cite_note-titanic-16</td>\n",
       "      <td>#cite_note-titanic_peak-17</td>\n",
       "    </tr>\n",
       "  </tbody>\n",
       "</table>\n",
       "</div>"
      ],
      "text/plain": [
       "      name rank worldwide_gross  year            Reference 1  \\\n",
       "0   Avatar    1  $2,787,965,087  2009   #cite_note-avatar-14   \n",
       "1  Titanic    2  $2,186,772,302  1997  #cite_note-titanic-16   \n",
       "\n",
       "                  Reference 2  \n",
       "0   #cite_note-avatar_peak-15  \n",
       "1  #cite_note-titanic_peak-17  "
      ]
     },
     "execution_count": 63,
     "metadata": {},
     "output_type": "execute_result"
    }
   ],
   "source": [
    "wiki_data.head(2)"
   ]
  },
  {
   "cell_type": "code",
   "execution_count": 56,
   "metadata": {
    "collapsed": true
   },
   "outputs": [],
   "source": [
    "imdb_data = pd.read_csv('imdb_top_250.csv')"
   ]
  },
  {
   "cell_type": "code",
   "execution_count": 68,
   "metadata": {
    "collapsed": false
   },
   "outputs": [],
   "source": [
    "combined = pd.merge(wiki_data, imdb_data, how='inner', on='name')"
   ]
  },
  {
   "cell_type": "code",
   "execution_count": 69,
   "metadata": {
    "collapsed": false
   },
   "outputs": [
    {
     "data": {
      "text/html": [
       "<div>\n",
       "<table border=\"1\" class=\"dataframe\">\n",
       "  <thead>\n",
       "    <tr style=\"text-align: right;\">\n",
       "      <th></th>\n",
       "      <th>name</th>\n",
       "      <th>rank</th>\n",
       "      <th>worldwide_gross</th>\n",
       "      <th>year_x</th>\n",
       "      <th>Reference 1</th>\n",
       "      <th>Reference 2</th>\n",
       "      <th>year_y</th>\n",
       "      <th>director</th>\n",
       "      <th>actors</th>\n",
       "      <th>rating</th>\n",
       "      <th>no_of_votes</th>\n",
       "      <th>imdb_link</th>\n",
       "    </tr>\n",
       "  </thead>\n",
       "  <tbody>\n",
       "    <tr>\n",
       "      <th>0</th>\n",
       "      <td>The Avengers</td>\n",
       "      <td>5</td>\n",
       "      <td>$1,519,557,910</td>\n",
       "      <td>2012</td>\n",
       "      <td>#cite_note-avengers-22</td>\n",
       "      <td>#cite_note-avengers_peak-23</td>\n",
       "      <td>2012</td>\n",
       "      <td>Joss Whedon</td>\n",
       "      <td>Robert Downey Jr., Chris Evans</td>\n",
       "      <td>8.0</td>\n",
       "      <td>1007840.0</td>\n",
       "      <td>/title/tt0848228/</td>\n",
       "    </tr>\n",
       "    <tr>\n",
       "      <th>1</th>\n",
       "      <td>The Lord of the Rings: The Return of the King</td>\n",
       "      <td>14</td>\n",
       "      <td>$1,119,929,521</td>\n",
       "      <td>2003</td>\n",
       "      <td>#cite_note-lotr3-37</td>\n",
       "      <td>#cite_note-ROTK_peak-38</td>\n",
       "      <td>2003</td>\n",
       "      <td>Peter Jackson</td>\n",
       "      <td>Elijah Wood, Viggo Mortensen</td>\n",
       "      <td>8.9</td>\n",
       "      <td>1229520.0</td>\n",
       "      <td>/title/tt0167260/</td>\n",
       "    </tr>\n",
       "    <tr>\n",
       "      <th>2</th>\n",
       "      <td>The Dark Knight Rises</td>\n",
       "      <td>17</td>\n",
       "      <td>$1,084,939,099</td>\n",
       "      <td>2012</td>\n",
       "      <td>#cite_note-43</td>\n",
       "      <td>#cite_note-Ice_Age_3_peak-44</td>\n",
       "      <td>2012</td>\n",
       "      <td>Christopher Nolan</td>\n",
       "      <td>Christian Bale, Tom Hardy</td>\n",
       "      <td>8.4</td>\n",
       "      <td>1158869.0</td>\n",
       "      <td>/title/tt1345836/</td>\n",
       "    </tr>\n",
       "  </tbody>\n",
       "</table>\n",
       "</div>"
      ],
      "text/plain": [
       "                                            name rank worldwide_gross year_x  \\\n",
       "0                                   The Avengers    5  $1,519,557,910   2012   \n",
       "1  The Lord of the Rings: The Return of the King   14  $1,119,929,521   2003   \n",
       "2                          The Dark Knight Rises   17  $1,084,939,099   2012   \n",
       "\n",
       "              Reference 1                   Reference 2  year_y  \\\n",
       "0  #cite_note-avengers-22   #cite_note-avengers_peak-23    2012   \n",
       "1     #cite_note-lotr3-37       #cite_note-ROTK_peak-38    2003   \n",
       "2           #cite_note-43  #cite_note-Ice_Age_3_peak-44    2012   \n",
       "\n",
       "            director                          actors  rating  no_of_votes  \\\n",
       "0        Joss Whedon  Robert Downey Jr., Chris Evans     8.0    1007840.0   \n",
       "1      Peter Jackson    Elijah Wood, Viggo Mortensen     8.9    1229520.0   \n",
       "2  Christopher Nolan       Christian Bale, Tom Hardy     8.4    1158869.0   \n",
       "\n",
       "           imdb_link  \n",
       "0  /title/tt0848228/  \n",
       "1  /title/tt0167260/  \n",
       "2  /title/tt1345836/  "
      ]
     },
     "execution_count": 69,
     "metadata": {},
     "output_type": "execute_result"
    }
   ],
   "source": [
    "combined.head(3)"
   ]
  },
  {
   "cell_type": "code",
   "execution_count": 70,
   "metadata": {
    "collapsed": true
   },
   "outputs": [],
   "source": [
    "import matplotlib.pyplot as plt"
   ]
  },
  {
   "cell_type": "code",
   "execution_count": 73,
   "metadata": {
    "collapsed": false
   },
   "outputs": [
    {
     "data": {
      "text/plain": [
       "<matplotlib.collections.PathCollection at 0x7f3807857090>"
      ]
     },
     "execution_count": 73,
     "metadata": {},
     "output_type": "execute_result"
    }
   ],
   "source": [
    "plt.scatter(combined.index, combined.rating)"
   ]
  },
  {
   "cell_type": "code",
   "execution_count": null,
   "metadata": {
    "collapsed": true
   },
   "outputs": [],
   "source": []
  }
 ],
 "metadata": {
  "anaconda-cloud": {},
  "kernelspec": {
   "display_name": "Python [conda root]",
   "language": "python",
   "name": "conda-root-py"
  },
  "language_info": {
   "codemirror_mode": {
    "name": "ipython",
    "version": 2
   },
   "file_extension": ".py",
   "mimetype": "text/x-python",
   "name": "python",
   "nbconvert_exporter": "python",
   "pygments_lexer": "ipython2",
   "version": "2.7.12"
  }
 },
 "nbformat": 4,
 "nbformat_minor": 1
}
