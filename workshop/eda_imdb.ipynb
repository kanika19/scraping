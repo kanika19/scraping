{
 "cells": [
  {
   "cell_type": "code",
   "execution_count": 2,
   "metadata": {
    "collapsed": true
   },
   "outputs": [],
   "source": [
    "import pandas as pd\n",
    "import matplotlib.pyplot as plt\n",
    "import numpy as np"
   ]
  },
  {
   "cell_type": "code",
   "execution_count": 3,
   "metadata": {
    "collapsed": true
   },
   "outputs": [],
   "source": [
    "data = pd.read_csv('imdb_top_250.csv')"
   ]
  },
  {
   "cell_type": "code",
   "execution_count": 4,
   "metadata": {
    "collapsed": false
   },
   "outputs": [
    {
     "data": {
      "text/html": [
       "<div>\n",
       "<table border=\"1\" class=\"dataframe\">\n",
       "  <thead>\n",
       "    <tr style=\"text-align: right;\">\n",
       "      <th></th>\n",
       "      <th>name</th>\n",
       "      <th>year</th>\n",
       "      <th>director</th>\n",
       "      <th>actors</th>\n",
       "      <th>rating</th>\n",
       "      <th>no_of_votes</th>\n",
       "      <th>imdb_link</th>\n",
       "    </tr>\n",
       "  </thead>\n",
       "  <tbody>\n",
       "    <tr>\n",
       "      <th>0</th>\n",
       "      <td>The Shawshank Redemption</td>\n",
       "      <td>1994</td>\n",
       "      <td>Frank Darabont</td>\n",
       "      <td>Tim Robbins, Morgan Freeman</td>\n",
       "      <td>9.2</td>\n",
       "      <td>1710495.0</td>\n",
       "      <td>/title/tt0111161/</td>\n",
       "    </tr>\n",
       "    <tr>\n",
       "      <th>1</th>\n",
       "      <td>The Godfather</td>\n",
       "      <td>1972</td>\n",
       "      <td>Francis Ford Coppola</td>\n",
       "      <td>Marlon Brando, Al Pacino</td>\n",
       "      <td>9.2</td>\n",
       "      <td>1169281.0</td>\n",
       "      <td>/title/tt0068646/</td>\n",
       "    </tr>\n",
       "    <tr>\n",
       "      <th>2</th>\n",
       "      <td>The Godfather: Part II</td>\n",
       "      <td>1974</td>\n",
       "      <td>Francis Ford Coppola</td>\n",
       "      <td>Al Pacino, Robert De Niro</td>\n",
       "      <td>9.0</td>\n",
       "      <td>800914.0</td>\n",
       "      <td>/title/tt0071562/</td>\n",
       "    </tr>\n",
       "    <tr>\n",
       "      <th>3</th>\n",
       "      <td>The Dark Knight</td>\n",
       "      <td>2008</td>\n",
       "      <td>Christopher Nolan</td>\n",
       "      <td>Christian Bale, Heath Ledger</td>\n",
       "      <td>8.9</td>\n",
       "      <td>1697321.0</td>\n",
       "      <td>/title/tt0468569/</td>\n",
       "    </tr>\n",
       "    <tr>\n",
       "      <th>4</th>\n",
       "      <td>12 Angry Men</td>\n",
       "      <td>1957</td>\n",
       "      <td>Sidney Lumet</td>\n",
       "      <td>Henry Fonda, Lee J. Cobb</td>\n",
       "      <td>8.9</td>\n",
       "      <td>454688.0</td>\n",
       "      <td>/title/tt0050083/</td>\n",
       "    </tr>\n",
       "  </tbody>\n",
       "</table>\n",
       "</div>"
      ],
      "text/plain": [
       "                       name  year              director  \\\n",
       "0  The Shawshank Redemption  1994        Frank Darabont   \n",
       "1             The Godfather  1972  Francis Ford Coppola   \n",
       "2    The Godfather: Part II  1974  Francis Ford Coppola   \n",
       "3           The Dark Knight  2008     Christopher Nolan   \n",
       "4              12 Angry Men  1957          Sidney Lumet   \n",
       "\n",
       "                         actors  rating  no_of_votes          imdb_link  \n",
       "0   Tim Robbins, Morgan Freeman     9.2    1710495.0  /title/tt0111161/  \n",
       "1      Marlon Brando, Al Pacino     9.2    1169281.0  /title/tt0068646/  \n",
       "2     Al Pacino, Robert De Niro     9.0     800914.0  /title/tt0071562/  \n",
       "3  Christian Bale, Heath Ledger     8.9    1697321.0  /title/tt0468569/  \n",
       "4      Henry Fonda, Lee J. Cobb     8.9     454688.0  /title/tt0050083/  "
      ]
     },
     "execution_count": 4,
     "metadata": {},
     "output_type": "execute_result"
    }
   ],
   "source": [
    "data.head()"
   ]
  },
  {
   "cell_type": "markdown",
   "metadata": {},
   "source": []
  },
  {
   "cell_type": "code",
   "execution_count": 10,
   "metadata": {
    "collapsed": false
   },
   "outputs": [
    {
     "data": {
      "text/html": [
       "<div>\n",
       "<table border=\"1\" class=\"dataframe\">\n",
       "  <thead>\n",
       "    <tr style=\"text-align: right;\">\n",
       "      <th></th>\n",
       "      <th>name</th>\n",
       "      <th>year</th>\n",
       "      <th>director</th>\n",
       "      <th>actors</th>\n",
       "      <th>rating</th>\n",
       "      <th>no_of_votes</th>\n",
       "      <th>imdb_link</th>\n",
       "    </tr>\n",
       "  </thead>\n",
       "  <tbody>\n",
       "    <tr>\n",
       "      <th>0</th>\n",
       "      <td>The Shawshank Redemption</td>\n",
       "      <td>1994</td>\n",
       "      <td>Frank Darabont</td>\n",
       "      <td>Tim Robbins, Morgan Freeman</td>\n",
       "      <td>9.2</td>\n",
       "      <td>1710495.0</td>\n",
       "      <td>/title/tt0111161/</td>\n",
       "    </tr>\n",
       "    <tr>\n",
       "      <th>1</th>\n",
       "      <td>The Godfather</td>\n",
       "      <td>1972</td>\n",
       "      <td>Francis Ford Coppola</td>\n",
       "      <td>Marlon Brando, Al Pacino</td>\n",
       "      <td>9.2</td>\n",
       "      <td>1169281.0</td>\n",
       "      <td>/title/tt0068646/</td>\n",
       "    </tr>\n",
       "    <tr>\n",
       "      <th>2</th>\n",
       "      <td>The Godfather: Part II</td>\n",
       "      <td>1974</td>\n",
       "      <td>Francis Ford Coppola</td>\n",
       "      <td>Al Pacino, Robert De Niro</td>\n",
       "      <td>9.0</td>\n",
       "      <td>800914.0</td>\n",
       "      <td>/title/tt0071562/</td>\n",
       "    </tr>\n",
       "  </tbody>\n",
       "</table>\n",
       "</div>"
      ],
      "text/plain": [
       "                       name  year              director  \\\n",
       "0  The Shawshank Redemption  1994        Frank Darabont   \n",
       "1             The Godfather  1972  Francis Ford Coppola   \n",
       "2    The Godfather: Part II  1974  Francis Ford Coppola   \n",
       "\n",
       "                        actors  rating  no_of_votes          imdb_link  \n",
       "0  Tim Robbins, Morgan Freeman     9.2    1710495.0  /title/tt0111161/  \n",
       "1     Marlon Brando, Al Pacino     9.2    1169281.0  /title/tt0068646/  \n",
       "2    Al Pacino, Robert De Niro     9.0     800914.0  /title/tt0071562/  "
      ]
     },
     "execution_count": 10,
     "metadata": {},
     "output_type": "execute_result"
    }
   ],
   "source": [
    "data[data.rating > 8.9]"
   ]
  },
  {
   "cell_type": "markdown",
   "metadata": {},
   "source": [
    "The pandas `describe` function provides some basic statistics for all numerical columns"
   ]
  },
  {
   "cell_type": "code",
   "execution_count": 23,
   "metadata": {
    "collapsed": false
   },
   "outputs": [
    {
     "data": {
      "text/html": [
       "<div>\n",
       "<table border=\"1\" class=\"dataframe\">\n",
       "  <thead>\n",
       "    <tr style=\"text-align: right;\">\n",
       "      <th></th>\n",
       "      <th>year</th>\n",
       "      <th>rating</th>\n",
       "      <th>no_of_votes</th>\n",
       "    </tr>\n",
       "  </thead>\n",
       "  <tbody>\n",
       "    <tr>\n",
       "      <th>count</th>\n",
       "      <td>250.000000</td>\n",
       "      <td>250.000000</td>\n",
       "      <td>2.500000e+02</td>\n",
       "    </tr>\n",
       "    <tr>\n",
       "      <th>mean</th>\n",
       "      <td>1984.148000</td>\n",
       "      <td>8.256400</td>\n",
       "      <td>4.111479e+05</td>\n",
       "    </tr>\n",
       "    <tr>\n",
       "      <th>std</th>\n",
       "      <td>24.323912</td>\n",
       "      <td>0.239098</td>\n",
       "      <td>3.382888e+05</td>\n",
       "    </tr>\n",
       "    <tr>\n",
       "      <th>min</th>\n",
       "      <td>1921.000000</td>\n",
       "      <td>8.000000</td>\n",
       "      <td>2.595200e+04</td>\n",
       "    </tr>\n",
       "    <tr>\n",
       "      <th>25%</th>\n",
       "      <td>1964.250000</td>\n",
       "      <td>8.100000</td>\n",
       "      <td>1.215070e+05</td>\n",
       "    </tr>\n",
       "    <tr>\n",
       "      <th>50%</th>\n",
       "      <td>1991.000000</td>\n",
       "      <td>8.200000</td>\n",
       "      <td>3.295665e+05</td>\n",
       "    </tr>\n",
       "    <tr>\n",
       "      <th>75%</th>\n",
       "      <td>2004.000000</td>\n",
       "      <td>8.400000</td>\n",
       "      <td>6.053025e+05</td>\n",
       "    </tr>\n",
       "    <tr>\n",
       "      <th>max</th>\n",
       "      <td>2016.000000</td>\n",
       "      <td>9.200000</td>\n",
       "      <td>1.710495e+06</td>\n",
       "    </tr>\n",
       "  </tbody>\n",
       "</table>\n",
       "</div>"
      ],
      "text/plain": [
       "              year      rating   no_of_votes\n",
       "count   250.000000  250.000000  2.500000e+02\n",
       "mean   1984.148000    8.256400  4.111479e+05\n",
       "std      24.323912    0.239098  3.382888e+05\n",
       "min    1921.000000    8.000000  2.595200e+04\n",
       "25%    1964.250000    8.100000  1.215070e+05\n",
       "50%    1991.000000    8.200000  3.295665e+05\n",
       "75%    2004.000000    8.400000  6.053025e+05\n",
       "max    2016.000000    9.200000  1.710495e+06"
      ]
     },
     "execution_count": 23,
     "metadata": {},
     "output_type": "execute_result"
    }
   ],
   "source": [
    "data[['year', 'rating', 'no_of_votes']].describe()"
   ]
  },
  {
   "cell_type": "markdown",
   "metadata": {},
   "source": [
    "Let's try to get the avg rating for each director"
   ]
  },
  {
   "cell_type": "code",
   "execution_count": 8,
   "metadata": {
    "collapsed": false
   },
   "outputs": [],
   "source": [
    "group = data.groupby(by=data.director)"
   ]
  },
  {
   "cell_type": "code",
   "execution_count": 15,
   "metadata": {
    "collapsed": false
   },
   "outputs": [
    {
     "data": {
      "text/plain": [
       "director\n",
       "Adam Elliot              8.1\n",
       "Akira Kurosawa           8.6\n",
       "Alejandro G. Iñárritu    8.1\n",
       "Alfred Hitchcock         8.5\n",
       "Andrei Tarkovsky         8.0\n",
       "Name: rating, dtype: float64"
      ]
     },
     "execution_count": 15,
     "metadata": {},
     "output_type": "execute_result"
    }
   ],
   "source": [
    "group.max()['rating'][:5]"
   ]
  },
  {
   "cell_type": "code",
   "execution_count": 23,
   "metadata": {
    "collapsed": false
   },
   "outputs": [
    {
     "data": {
      "image/png": "[encoded data removed]",
      "text/plain": [
       "<matplotlib.figure.Figure at 0x7fcfbb837310>"
      ]
     },
     "metadata": {},
     "output_type": "display_data"
    }
   ],
   "source": [
    "plt.hist(data.year, bins=range(1920, 2016), color='#888444')\n",
    "plt.title('Number of top rated movies per year')\n",
    "plt.ylabel('Movie count')\n",
    "plt.show()"
   ]
  },
  {
   "cell_type": "code",
   "execution_count": 22,
   "metadata": {
    "collapsed": false
   },
   "outputs": [
    {
     "data": {
      "text/plain": [
       "array([ 1,  2,  3,  4,  5,  6,  7,  8,  9, 10, 11, 12, 13, 14, 15, 16, 17,\n",
       "       18, 19])"
      ]
     },
     "execution_count": 22,
     "metadata": {},
     "output_type": "execute_result"
    }
   ],
   "source": [
    "np.arange(1,20)"
   ]
  },
  {
   "cell_type": "code",
   "execution_count": 6,
   "metadata": {
    "collapsed": false
   },
   "outputs": [
    {
     "data": {
      "text/html": [
       "<div>\n",
       "<table border=\"1\" class=\"dataframe\">\n",
       "  <thead>\n",
       "    <tr style=\"text-align: right;\">\n",
       "      <th></th>\n",
       "      <th>name</th>\n",
       "      <th>year</th>\n",
       "      <th>rating</th>\n",
       "    </tr>\n",
       "  </thead>\n",
       "  <tbody>\n",
       "    <tr>\n",
       "      <th>202</th>\n",
       "      <td>Stalker</td>\n",
       "      <td>1979</td>\n",
       "      <td>8.0</td>\n",
       "    </tr>\n",
       "    <tr>\n",
       "      <th>203</th>\n",
       "      <td>Annie Hall</td>\n",
       "      <td>1977</td>\n",
       "      <td>8.0</td>\n",
       "    </tr>\n",
       "    <tr>\n",
       "      <th>204</th>\n",
       "      <td>Salinui chueok</td>\n",
       "      <td>2003</td>\n",
       "      <td>8.0</td>\n",
       "    </tr>\n",
       "    <tr>\n",
       "      <th>205</th>\n",
       "      <td>Before Sunrise</td>\n",
       "      <td>1995</td>\n",
       "      <td>8.0</td>\n",
       "    </tr>\n",
       "    <tr>\n",
       "      <th>206</th>\n",
       "      <td>The Truman Show</td>\n",
       "      <td>1998</td>\n",
       "      <td>8.0</td>\n",
       "    </tr>\n",
       "    <tr>\n",
       "      <th>207</th>\n",
       "      <td>The Bourne Ultimatum</td>\n",
       "      <td>2007</td>\n",
       "      <td>8.0</td>\n",
       "    </tr>\n",
       "  </tbody>\n",
       "</table>\n",
       "</div>"
      ],
      "text/plain": [
       "                     name  year  rating\n",
       "202               Stalker  1979     8.0\n",
       "203            Annie Hall  1977     8.0\n",
       "204        Salinui chueok  2003     8.0\n",
       "205        Before Sunrise  1995     8.0\n",
       "206       The Truman Show  1998     8.0\n",
       "207  The Bourne Ultimatum  2007     8.0"
      ]
     },
     "execution_count": 6,
     "metadata": {},
     "output_type": "execute_result"
    }
   ],
   "source": [
    "data[data.rating == data.rating.min()][['name', 'year', 'rating',]].head(6)"
   ]
  },
  {
   "cell_type": "code",
   "execution_count": 50,
   "metadata": {
    "collapsed": false
   },
   "outputs": [
    {
     "data": {
      "text/html": [
       "<div>\n",
       "<table border=\"1\" class=\"dataframe\">\n",
       "  <thead>\n",
       "    <tr style=\"text-align: right;\">\n",
       "      <th></th>\n",
       "      <th>name</th>\n",
       "      <th>year</th>\n",
       "      <th>director</th>\n",
       "      <th>actors</th>\n",
       "      <th>rating</th>\n",
       "      <th>no_of_votes</th>\n",
       "      <th>imdb_link</th>\n",
       "      <th>decade</th>\n",
       "    </tr>\n",
       "  </thead>\n",
       "  <tbody>\n",
       "    <tr>\n",
       "      <th>0</th>\n",
       "      <td>The Shawshank Redemption</td>\n",
       "      <td>1994</td>\n",
       "      <td>Frank Darabont</td>\n",
       "      <td>Tim Robbins, Morgan Freeman</td>\n",
       "      <td>9.2</td>\n",
       "      <td>1710495.0</td>\n",
       "      <td>/title/tt0111161/</td>\n",
       "      <td>1990</td>\n",
       "    </tr>\n",
       "    <tr>\n",
       "      <th>1</th>\n",
       "      <td>The Godfather</td>\n",
       "      <td>1972</td>\n",
       "      <td>Francis Ford Coppola</td>\n",
       "      <td>Marlon Brando, Al Pacino</td>\n",
       "      <td>9.2</td>\n",
       "      <td>1169281.0</td>\n",
       "      <td>/title/tt0068646/</td>\n",
       "      <td>1970</td>\n",
       "    </tr>\n",
       "    <tr>\n",
       "      <th>2</th>\n",
       "      <td>The Godfather: Part II</td>\n",
       "      <td>1974</td>\n",
       "      <td>Francis Ford Coppola</td>\n",
       "      <td>Al Pacino, Robert De Niro</td>\n",
       "      <td>9.0</td>\n",
       "      <td>800914.0</td>\n",
       "      <td>/title/tt0071562/</td>\n",
       "      <td>1970</td>\n",
       "    </tr>\n",
       "    <tr>\n",
       "      <th>3</th>\n",
       "      <td>The Dark Knight</td>\n",
       "      <td>2008</td>\n",
       "      <td>Christopher Nolan</td>\n",
       "      <td>Christian Bale, Heath Ledger</td>\n",
       "      <td>8.9</td>\n",
       "      <td>1697321.0</td>\n",
       "      <td>/title/tt0468569/</td>\n",
       "      <td>2000</td>\n",
       "    </tr>\n",
       "    <tr>\n",
       "      <th>4</th>\n",
       "      <td>12 Angry Men</td>\n",
       "      <td>1957</td>\n",
       "      <td>Sidney Lumet</td>\n",
       "      <td>Henry Fonda, Lee J. Cobb</td>\n",
       "      <td>8.9</td>\n",
       "      <td>454688.0</td>\n",
       "      <td>/title/tt0050083/</td>\n",
       "      <td>1950</td>\n",
       "    </tr>\n",
       "  </tbody>\n",
       "</table>\n",
       "</div>"
      ],
      "text/plain": [
       "                       name  year              director  \\\n",
       "0  The Shawshank Redemption  1994        Frank Darabont   \n",
       "1             The Godfather  1972  Francis Ford Coppola   \n",
       "2    The Godfather: Part II  1974  Francis Ford Coppola   \n",
       "3           The Dark Knight  2008     Christopher Nolan   \n",
       "4              12 Angry Men  1957          Sidney Lumet   \n",
       "\n",
       "                         actors  rating  no_of_votes          imdb_link  \\\n",
       "0   Tim Robbins, Morgan Freeman     9.2    1710495.0  /title/tt0111161/   \n",
       "1      Marlon Brando, Al Pacino     9.2    1169281.0  /title/tt0068646/   \n",
       "2     Al Pacino, Robert De Niro     9.0     800914.0  /title/tt0071562/   \n",
       "3  Christian Bale, Heath Ledger     8.9    1697321.0  /title/tt0468569/   \n",
       "4      Henry Fonda, Lee J. Cobb     8.9     454688.0  /title/tt0050083/   \n",
       "\n",
       "   decade  \n",
       "0    1990  \n",
       "1    1970  \n",
       "2    1970  \n",
       "3    2000  \n",
       "4    1950  "
      ]
     },
     "execution_count": 50,
     "metadata": {},
     "output_type": "execute_result"
    }
   ],
   "source": [
    "decade = (data.year //10 ) * 10\n",
    "data['decade'] = decade\n",
    "data.head()"
   ]
  },
  {
   "cell_type": "markdown",
   "metadata": {},
   "source": [
    "Let's try grouping the movies based on the decade and see the average rating for each decade"
   ]
  },
  {
   "cell_type": "code",
   "execution_count": 41,
   "metadata": {
    "collapsed": true
   },
   "outputs": [],
   "source": [
    "decade_group = data.groupby(decade)"
   ]
  },
  {
   "cell_type": "code",
   "execution_count": 42,
   "metadata": {
    "collapsed": false
   },
   "outputs": [
    {
     "name": "stdout",
     "output_type": "stream",
     "text": [
      "year\n",
      "1920    8.216667\n",
      "1930    8.242857\n",
      "1940    8.246154\n",
      "1950    8.237037\n",
      "1960    8.261111\n",
      "1970    8.295238\n",
      "1980    8.243333\n",
      "1990    8.368293\n",
      "2000    8.255102\n",
      "2010    8.150000\n",
      "Name: rating, dtype: float64\n"
     ]
    }
   ],
   "source": [
    "rating_decade = decade_group.rating.mean()\n",
    "print rating_decade"
   ]
  },
  {
   "cell_type": "code",
   "execution_count": 28,
   "metadata": {
    "collapsed": false
   },
   "outputs": [
    {
     "data": {
      "text/plain": [
       "array(['Frank Darabont', 'Francis Ford Coppola', 'Christopher Nolan',\n",
       "       'Sidney Lumet', 'Steven Spielberg', 'Quentin Tarantino',\n",
       "       'Peter Jackson', 'Sergio Leone', 'David Fincher', 'Irvin Kershner',\n",
       "       'Robert Zemeckis', 'Milos Forman', 'Martin Scorsese',\n",
       "       'Lana Wachowski', 'Akira Kurosawa', 'George Lucas',\n",
       "       'Fernando Meirelles', 'Jonathan Demme', 'Frank Capra',\n",
       "       'Bryan Singer', 'Roberto Benigni', 'Luc Besson', 'Hayao Miyazaki',\n",
       "       'Tony Kaye', 'Michael Curtiz', 'Alfred Hitchcock',\n",
       "       'Charles Chaplin', 'Olivier Nakache', 'James Cameron',\n",
       "       'Roman Polanski', 'Damien Chazelle', 'Ridley Scott', 'Roger Allers',\n",
       "       'Stanley Kubrick', 'Billy Wilder',\n",
       "       'Florian Henckel von Donnersmarck', 'Giuseppe Tornatore',\n",
       "       'Isao Takahata', 'Andrew Stanton', 'Sam Mendes', 'Chan-wook Park',\n",
       "       'Orson Welles', 'Wolfgang Petersen', 'Richard Marquand',\n",
       "       'Fritz Lang', 'Mel Gibson', 'Jean-Pierre Jeunet',\n",
       "       'Darren Aronofsky', 'David Lean', 'Lee Unkrich', 'Robert Mulligan',\n",
       "       'Michel Gondry', 'George Roy Hill', 'Vittorio De Sica',\n",
       "       'John Lasseter', 'Stanley Donen', 'Guy Ritchie', 'Terry Gilliam',\n",
       "       'Curtis Hanson', 'Brian De Palma', 'Rajkumar Hirani',\n",
       "       'Asghar Farhadi', 'Thomas Vinterberg', 'Joseph L. Mankiewicz',\n",
       "       'Gus Van Sant', 'John Huston', 'Pete Docter', 'Clint Eastwood',\n",
       "       'Carol Reed', 'Oliver Hirschbiegel', 'Majid Majidi',\n",
       "       'John McTiernan', 'John Sturges', 'Michael Mann',\n",
       "       'Guillermo del Toro', 'Lenny Abrahamson', 'Elia Kazan',\n",
       "       'Juan Jos\\xc3\\xa9 Campanella', 'Ingmar Bergman',\n",
       "       'Carl Theodor Dreyer', 'Stanley Kramer', 'Clyde Bruckman',\n",
       "       'F.W. Murnau', 'David Lynch', 'Ron Howard', \"Gavin O'Connor\",\n",
       "       'James McTeigue', 'Denis Villeneuve', 'Yasujir\\xc3\\xb4 Ozu',\n",
       "       'Joel Coen', 'Michael Cimino', 'J.J. Abrams', 'Danny Boyle',\n",
       "       'Victor Fleming', 'Stuart Rosenberg', 'Dean DeBlois',\n",
       "       'M. Night Shyamalan', 'John Carpenter', 'Ethan Coen', 'Sean Penn',\n",
       "       'Adam Elliot', 'Moustapha Akkad', 'Elem Klimov',\n",
       "       'Paul Thomas Anderson', 'Terry Jones', 'Federico Fellini',\n",
       "       'Terry George', 'Oliver Stone', 'Henri-Georges Clouzot',\n",
       "       'Tom McCarthy', 'George Miller', 'Rob Reiner', 'Jim Sheridan',\n",
       "       'Fran\\xc3\\xa7ois Truffaut', 'Steve McQueen',\n",
       "       'Dami\\xc3\\xa1n Szifr\\xc3\\xb3n', 'Wes Anderson', 'William Wyler',\n",
       "       'Alejandro G. I\\xc3\\xb1\\xc3\\xa1rritu', 'Byron Howard',\n",
       "       'Lasse Hallstr\\xc3\\xb6m', 'John Ford', 'Andrei Tarkovsky',\n",
       "       'Woody Allen', 'Joon-ho Bong', 'Richard Linklater', 'Peter Weir',\n",
       "       'Paul Greengrass', 'Richard Attenborough', 'John G. Avildsen',\n",
       "       'Richard Kelly', 'David Yates', 'Harold Ramis', 'Wai-Keung Lau',\n",
       "       'Mathieu Kassovitz', 'Tomm Moore', 'Frank Miller', 'Robert Hamer',\n",
       "       'Tim Miller', 'Gillo Pontecorvo', 'Wilson Yip', 'Gore Verbinski',\n",
       "       'Tate Taylor', 'Morten Tyldum', 'Anurag Kashyap', 'James Gunn',\n",
       "       'Tom Hooper', 'Joss Whedon', 'Ashutosh Gowariker', 'Sujoy Ghosh',\n",
       "       'Gary Trousdale'], dtype=object)"
      ]
     },
     "execution_count": 28,
     "metadata": {},
     "output_type": "execute_result"
    }
   ],
   "source": [
    "data.director.unique()"
   ]
  },
  {
   "cell_type": "code",
   "execution_count": 38,
   "metadata": {
    "collapsed": false
   },
   "outputs": [
    {
     "data": {
      "text/plain": [
       "Alfred Hitchcock     7\n",
       "Stanley Kubrick      7\n",
       "Christopher Nolan    7\n",
       "Martin Scorsese      7\n",
       "Steven Spielberg     7\n",
       "Hayao Miyazaki       6\n",
       "Quentin Tarantino    5\n",
       "Sergio Leone         5\n",
       "Akira Kurosawa       5\n",
       "Billy Wilder         5\n",
       "Name: director, dtype: int64"
      ]
     },
     "execution_count": 38,
     "metadata": {},
     "output_type": "execute_result"
    }
   ],
   "source": [
    "data.director.value_counts()[:10]"
   ]
  },
  {
   "cell_type": "code",
   "execution_count": 29,
   "metadata": {
    "collapsed": true
   },
   "outputs": [],
   "source": [
    "temp = data.year.apply(lambda x: x+ 10)"
   ]
  },
  {
   "cell_type": "code",
   "execution_count": 35,
   "metadata": {
    "collapsed": false
   },
   "outputs": [
    {
     "name": "stdout",
     "output_type": "stream",
     "text": [
      "                              name  year         director  \\\n",
      "94                         The Kid  1921  Charles Chaplin   \n",
      "129                  The Gold Rush  1925  Charles Chaplin   \n",
      "141                    The General  1926   Clyde Bruckman   \n",
      "104                     Metropolis  1927       Fritz Lang   \n",
      "142  Sunrise: A Song of Two Humans  1927      F.W. Murnau   \n",
      "\n",
      "                              actors  rating  no_of_votes          imdb_link  \n",
      "94   Charles Chaplin, Edna Purviance     8.3      68760.0  /title/tt0012349/  \n",
      "129      Charles Chaplin, Mack Swain     8.2      68830.0  /title/tt0015864/  \n",
      "141       Buster Keaton, Marion Mack     8.2      54309.0  /title/tt0017925/  \n",
      "104       Brigitte Helm, Alfred Abel     8.2     113208.0  /title/tt0017136/  \n",
      "142     George O'Brien, Janet Gaynor     8.2      29835.0  /title/tt0018455/  \n"
     ]
    },
    {
     "data": {
      "image/png": "[encoded data removed]",
      "text/plain": [
       "<matplotlib.figure.Figure at 0x7fcfbae23290>"
      ]
     },
     "metadata": {},
     "output_type": "display_data"
    }
   ],
   "source": [
    "year_sort = data.sort_values(by='year')\n",
    "print year_sort.head()\n",
    "plt.plot(year_sort.year, year_sort.rating)\n",
    "plt.show()"
   ]
  },
  {
   "cell_type": "code",
   "execution_count": null,
   "metadata": {
    "collapsed": true
   },
   "outputs": [],
   "source": [
    "year_sort = data.sort_values"
   ]
  },
  {
   "cell_type": "code",
   "execution_count": 57,
   "metadata": {
    "collapsed": false
   },
   "outputs": [
    {
     "data": {
      "image/png": "[encoded data removed]",
      "text/plain": [
       "<matplotlib.figure.Figure at 0x7fcfbc0218d0>"
      ]
     },
     "metadata": {},
     "output_type": "display_data"
    }
   ],
   "source": [
    "plt.scatter(year_sort.rating, year_sort.no_of_votes)\n",
    "plt.legend()\n",
    "plt.show()"
   ]
  },
  {
   "cell_type": "code",
   "execution_count": 55,
   "metadata": {
    "collapsed": false
   },
   "outputs": [
    {
     "data": {
      "text/html": [
       "<div>\n",
       "<table border=\"1\" class=\"dataframe\">\n",
       "  <thead>\n",
       "    <tr style=\"text-align: right;\">\n",
       "      <th></th>\n",
       "      <th>name</th>\n",
       "      <th>year</th>\n",
       "      <th>director</th>\n",
       "      <th>actors</th>\n",
       "      <th>rating</th>\n",
       "      <th>no_of_votes</th>\n",
       "      <th>imdb_link</th>\n",
       "      <th>decade</th>\n",
       "      <th>rating_range</th>\n",
       "    </tr>\n",
       "  </thead>\n",
       "  <tbody>\n",
       "    <tr>\n",
       "      <th>0</th>\n",
       "      <td>The Shawshank Redemption</td>\n",
       "      <td>1994</td>\n",
       "      <td>Frank Darabont</td>\n",
       "      <td>Tim Robbins, Morgan Freeman</td>\n",
       "      <td>9.2</td>\n",
       "      <td>1710495.0</td>\n",
       "      <td>/title/tt0111161/</td>\n",
       "      <td>1990</td>\n",
       "      <td>9</td>\n",
       "    </tr>\n",
       "    <tr>\n",
       "      <th>1</th>\n",
       "      <td>The Godfather</td>\n",
       "      <td>1972</td>\n",
       "      <td>Francis Ford Coppola</td>\n",
       "      <td>Marlon Brando, Al Pacino</td>\n",
       "      <td>9.2</td>\n",
       "      <td>1169281.0</td>\n",
       "      <td>/title/tt0068646/</td>\n",
       "      <td>1970</td>\n",
       "      <td>9</td>\n",
       "    </tr>\n",
       "  </tbody>\n",
       "</table>\n",
       "</div>"
      ],
      "text/plain": [
       "                       name  year              director  \\\n",
       "0  The Shawshank Redemption  1994        Frank Darabont   \n",
       "1             The Godfather  1972  Francis Ford Coppola   \n",
       "\n",
       "                        actors  rating  no_of_votes          imdb_link  \\\n",
       "0  Tim Robbins, Morgan Freeman     9.2    1710495.0  /title/tt0111161/   \n",
       "1     Marlon Brando, Al Pacino     9.2    1169281.0  /title/tt0068646/   \n",
       "\n",
       "   decade  rating_range  \n",
       "0    1990             9  \n",
       "1    1970             9  "
      ]
     },
     "execution_count": 55,
     "metadata": {},
     "output_type": "execute_result"
    }
   ],
   "source": [
    "data.head(2)"
   ]
  },
  {
   "cell_type": "code",
   "execution_count": 54,
   "metadata": {
    "collapsed": false
   },
   "outputs": [],
   "source": [
    "data['rating_range'] = data.rating.astype(int)"
   ]
  },
  {
   "cell_type": "code",
   "execution_count": 52,
   "metadata": {
    "collapsed": false
   },
   "outputs": [
    {
     "data": {
      "text/plain": [
       "9"
      ]
     },
     "execution_count": 52,
     "metadata": {},
     "output_type": "execute_result"
    }
   ],
   "source": [
    "int(9.2)"
   ]
  },
  {
   "cell_type": "code",
   "execution_count": 56,
   "metadata": {
    "collapsed": false
   },
   "outputs": [
    {
     "data": {
      "text/html": [
       "<div>\n",
       "<table border=\"1\" class=\"dataframe\">\n",
       "  <thead>\n",
       "    <tr style=\"text-align: right;\">\n",
       "      <th>year</th>\n",
       "      <th>1920</th>\n",
       "      <th>1930</th>\n",
       "      <th>1940</th>\n",
       "      <th>1950</th>\n",
       "      <th>1960</th>\n",
       "      <th>1970</th>\n",
       "      <th>1980</th>\n",
       "      <th>1990</th>\n",
       "      <th>2000</th>\n",
       "      <th>2010</th>\n",
       "    </tr>\n",
       "    <tr>\n",
       "      <th>rating_range</th>\n",
       "      <th></th>\n",
       "      <th></th>\n",
       "      <th></th>\n",
       "      <th></th>\n",
       "      <th></th>\n",
       "      <th></th>\n",
       "      <th></th>\n",
       "      <th></th>\n",
       "      <th></th>\n",
       "      <th></th>\n",
       "    </tr>\n",
       "  </thead>\n",
       "  <tbody>\n",
       "    <tr>\n",
       "      <th>8</th>\n",
       "      <td>6</td>\n",
       "      <td>7</td>\n",
       "      <td>13</td>\n",
       "      <td>27</td>\n",
       "      <td>18</td>\n",
       "      <td>19</td>\n",
       "      <td>30</td>\n",
       "      <td>40</td>\n",
       "      <td>49</td>\n",
       "      <td>38</td>\n",
       "    </tr>\n",
       "    <tr>\n",
       "      <th>9</th>\n",
       "      <td>0</td>\n",
       "      <td>0</td>\n",
       "      <td>0</td>\n",
       "      <td>0</td>\n",
       "      <td>0</td>\n",
       "      <td>2</td>\n",
       "      <td>0</td>\n",
       "      <td>1</td>\n",
       "      <td>0</td>\n",
       "      <td>0</td>\n",
       "    </tr>\n",
       "  </tbody>\n",
       "</table>\n",
       "</div>"
      ],
      "text/plain": [
       "year          1920  1930  1940  1950  1960  1970  1980  1990  2000  2010\n",
       "rating_range                                                            \n",
       "8                6     7    13    27    18    19    30    40    49    38\n",
       "9                0     0     0     0     0     2     0     1     0     0"
      ]
     },
     "execution_count": 56,
     "metadata": {},
     "output_type": "execute_result"
    }
   ],
   "source": [
    "pd.crosstab(data.rating_range, decade)"
   ]
  },
  {
   "cell_type": "code",
   "execution_count": null,
   "metadata": {
    "collapsed": true
   },
   "outputs": [],
   "source": []
  }
 ],
 "metadata": {
  "anaconda-cloud": {},
  "kernelspec": {
   "display_name": "Python [conda root]",
   "language": "python",
   "name": "conda-root-py"
  },
  "language_info": {
   "codemirror_mode": {
    "name": "ipython",
    "version": 2
   },
   "file_extension": ".py",
   "mimetype": "text/x-python",
   "name": "python",
   "nbconvert_exporter": "python",
   "pygments_lexer": "ipython2",
   "version": "2.7.12"
  }
 },
 "nbformat": 4,
 "nbformat_minor": 1
}
